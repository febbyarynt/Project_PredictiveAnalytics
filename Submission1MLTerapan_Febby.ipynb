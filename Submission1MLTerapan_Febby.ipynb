{
  "nbformat": 4,
  "nbformat_minor": 0,
  "metadata": {
    "colab": {
      "provenance": []
    },
    "kernelspec": {
      "name": "python3",
      "display_name": "Python 3"
    },
    "language_info": {
      "name": "python"
    }
  },
  "cells": [
    {
      "cell_type": "markdown",
      "source": [
        "## PREDICTIVE ANALYTIC - Proyek 1\n",
        "* Nama : Febby Ariyanti Herdiana"
      ],
      "metadata": {
        "id": "g2Y3Qe6yYN2g"
      }
    },
    {
      "cell_type": "markdown",
      "source": [
        "## Importing Libraries"
      ],
      "metadata": {
        "id": "mPim7ZJnYg-i"
      }
    },
    {
      "cell_type": "code",
      "execution_count": null,
      "metadata": {
        "id": "qbgOAJSYtMcj"
      },
      "outputs": [],
      "source": [
        "import numpy as np\n",
        "import pandas as pd\n",
        "import seaborn as sns\n",
        "import matplotlib.pyplot as plt\n",
        "import zipfile\n",
        "import os\n",
        "from IPython.display import display\n",
        "from sklearn.model_selection import train_test_split\n",
        "from sklearn.model_selection import RandomizedSearchCV\n",
        "from sklearn.preprocessing import StandardScaler\n",
        "from sklearn.preprocessing import PowerTransformer\n",
        "from sklearn.decomposition import PCA\n",
        "from sklearn.neighbors import KNeighborsRegressor\n",
        "from sklearn.ensemble import RandomForestRegressor\n",
        "from sklearn.ensemble import AdaBoostRegressor\n",
        "from sklearn.metrics import mean_squared_error\n",
        "%matplotlib inline"
      ]
    },
    {
      "cell_type": "code",
      "source": [
        "!pip install -q kaggle"
      ],
      "metadata": {
        "id": "-tqNVP2mtQW0"
      },
      "execution_count": null,
      "outputs": []
    },
    {
      "cell_type": "code",
      "source": [
        "from google.colab import files\n",
        "files.upload()"
      ],
      "metadata": {
        "colab": {
          "base_uri": "https://localhost:8080/",
          "height": 90
        },
        "id": "AdsTx8ahtZnz",
        "outputId": "5a1fb208-02dc-4028-d223-aca3c7c17689"
      },
      "execution_count": null,
      "outputs": [
        {
          "output_type": "display_data",
          "data": {
            "text/plain": [
              "<IPython.core.display.HTML object>"
            ],
            "text/html": [
              "\n",
              "     <input type=\"file\" id=\"files-d673a90a-93d4-4e52-b541-2d87c3688fb1\" name=\"files[]\" multiple disabled\n",
              "        style=\"border:none\" />\n",
              "     <output id=\"result-d673a90a-93d4-4e52-b541-2d87c3688fb1\">\n",
              "      Upload widget is only available when the cell has been executed in the\n",
              "      current browser session. Please rerun this cell to enable.\n",
              "      </output>\n",
              "      <script>// Copyright 2017 Google LLC\n",
              "//\n",
              "// Licensed under the Apache License, Version 2.0 (the \"License\");\n",
              "// you may not use this file except in compliance with the License.\n",
              "// You may obtain a copy of the License at\n",
              "//\n",
              "//      http://www.apache.org/licenses/LICENSE-2.0\n",
              "//\n",
              "// Unless required by applicable law or agreed to in writing, software\n",
              "// distributed under the License is distributed on an \"AS IS\" BASIS,\n",
              "// WITHOUT WARRANTIES OR CONDITIONS OF ANY KIND, either express or implied.\n",
              "// See the License for the specific language governing permissions and\n",
              "// limitations under the License.\n",
              "\n",
              "/**\n",
              " * @fileoverview Helpers for google.colab Python module.\n",
              " */\n",
              "(function(scope) {\n",
              "function span(text, styleAttributes = {}) {\n",
              "  const element = document.createElement('span');\n",
              "  element.textContent = text;\n",
              "  for (const key of Object.keys(styleAttributes)) {\n",
              "    element.style[key] = styleAttributes[key];\n",
              "  }\n",
              "  return element;\n",
              "}\n",
              "\n",
              "// Max number of bytes which will be uploaded at a time.\n",
              "const MAX_PAYLOAD_SIZE = 100 * 1024;\n",
              "\n",
              "function _uploadFiles(inputId, outputId) {\n",
              "  const steps = uploadFilesStep(inputId, outputId);\n",
              "  const outputElement = document.getElementById(outputId);\n",
              "  // Cache steps on the outputElement to make it available for the next call\n",
              "  // to uploadFilesContinue from Python.\n",
              "  outputElement.steps = steps;\n",
              "\n",
              "  return _uploadFilesContinue(outputId);\n",
              "}\n",
              "\n",
              "// This is roughly an async generator (not supported in the browser yet),\n",
              "// where there are multiple asynchronous steps and the Python side is going\n",
              "// to poll for completion of each step.\n",
              "// This uses a Promise to block the python side on completion of each step,\n",
              "// then passes the result of the previous step as the input to the next step.\n",
              "function _uploadFilesContinue(outputId) {\n",
              "  const outputElement = document.getElementById(outputId);\n",
              "  const steps = outputElement.steps;\n",
              "\n",
              "  const next = steps.next(outputElement.lastPromiseValue);\n",
              "  return Promise.resolve(next.value.promise).then((value) => {\n",
              "    // Cache the last promise value to make it available to the next\n",
              "    // step of the generator.\n",
              "    outputElement.lastPromiseValue = value;\n",
              "    return next.value.response;\n",
              "  });\n",
              "}\n",
              "\n",
              "/**\n",
              " * Generator function which is called between each async step of the upload\n",
              " * process.\n",
              " * @param {string} inputId Element ID of the input file picker element.\n",
              " * @param {string} outputId Element ID of the output display.\n",
              " * @return {!Iterable<!Object>} Iterable of next steps.\n",
              " */\n",
              "function* uploadFilesStep(inputId, outputId) {\n",
              "  const inputElement = document.getElementById(inputId);\n",
              "  inputElement.disabled = false;\n",
              "\n",
              "  const outputElement = document.getElementById(outputId);\n",
              "  outputElement.innerHTML = '';\n",
              "\n",
              "  const pickedPromise = new Promise((resolve) => {\n",
              "    inputElement.addEventListener('change', (e) => {\n",
              "      resolve(e.target.files);\n",
              "    });\n",
              "  });\n",
              "\n",
              "  const cancel = document.createElement('button');\n",
              "  inputElement.parentElement.appendChild(cancel);\n",
              "  cancel.textContent = 'Cancel upload';\n",
              "  const cancelPromise = new Promise((resolve) => {\n",
              "    cancel.onclick = () => {\n",
              "      resolve(null);\n",
              "    };\n",
              "  });\n",
              "\n",
              "  // Wait for the user to pick the files.\n",
              "  const files = yield {\n",
              "    promise: Promise.race([pickedPromise, cancelPromise]),\n",
              "    response: {\n",
              "      action: 'starting',\n",
              "    }\n",
              "  };\n",
              "\n",
              "  cancel.remove();\n",
              "\n",
              "  // Disable the input element since further picks are not allowed.\n",
              "  inputElement.disabled = true;\n",
              "\n",
              "  if (!files) {\n",
              "    return {\n",
              "      response: {\n",
              "        action: 'complete',\n",
              "      }\n",
              "    };\n",
              "  }\n",
              "\n",
              "  for (const file of files) {\n",
              "    const li = document.createElement('li');\n",
              "    li.append(span(file.name, {fontWeight: 'bold'}));\n",
              "    li.append(span(\n",
              "        `(${file.type || 'n/a'}) - ${file.size} bytes, ` +\n",
              "        `last modified: ${\n",
              "            file.lastModifiedDate ? file.lastModifiedDate.toLocaleDateString() :\n",
              "                                    'n/a'} - `));\n",
              "    const percent = span('0% done');\n",
              "    li.appendChild(percent);\n",
              "\n",
              "    outputElement.appendChild(li);\n",
              "\n",
              "    const fileDataPromise = new Promise((resolve) => {\n",
              "      const reader = new FileReader();\n",
              "      reader.onload = (e) => {\n",
              "        resolve(e.target.result);\n",
              "      };\n",
              "      reader.readAsArrayBuffer(file);\n",
              "    });\n",
              "    // Wait for the data to be ready.\n",
              "    let fileData = yield {\n",
              "      promise: fileDataPromise,\n",
              "      response: {\n",
              "        action: 'continue',\n",
              "      }\n",
              "    };\n",
              "\n",
              "    // Use a chunked sending to avoid message size limits. See b/62115660.\n",
              "    let position = 0;\n",
              "    do {\n",
              "      const length = Math.min(fileData.byteLength - position, MAX_PAYLOAD_SIZE);\n",
              "      const chunk = new Uint8Array(fileData, position, length);\n",
              "      position += length;\n",
              "\n",
              "      const base64 = btoa(String.fromCharCode.apply(null, chunk));\n",
              "      yield {\n",
              "        response: {\n",
              "          action: 'append',\n",
              "          file: file.name,\n",
              "          data: base64,\n",
              "        },\n",
              "      };\n",
              "\n",
              "      let percentDone = fileData.byteLength === 0 ?\n",
              "          100 :\n",
              "          Math.round((position / fileData.byteLength) * 100);\n",
              "      percent.textContent = `${percentDone}% done`;\n",
              "\n",
              "    } while (position < fileData.byteLength);\n",
              "  }\n",
              "\n",
              "  // All done.\n",
              "  yield {\n",
              "    response: {\n",
              "      action: 'complete',\n",
              "    }\n",
              "  };\n",
              "}\n",
              "\n",
              "scope.google = scope.google || {};\n",
              "scope.google.colab = scope.google.colab || {};\n",
              "scope.google.colab._files = {\n",
              "  _uploadFiles,\n",
              "  _uploadFilesContinue,\n",
              "};\n",
              "})(self);\n",
              "</script> "
            ]
          },
          "metadata": {}
        },
        {
          "output_type": "stream",
          "name": "stdout",
          "text": [
            "Saving kaggle.json to kaggle.json\n"
          ]
        },
        {
          "output_type": "execute_result",
          "data": {
            "text/plain": [
              "{'kaggle.json': b'{\"username\":\"febbyariyanti01\",\"key\":\"9e5a11195940e22660ae4231b2006d1f\"}'}"
            ]
          },
          "metadata": {},
          "execution_count": 3
        }
      ]
    },
    {
      "cell_type": "code",
      "source": [
        "!mkdir ~/.kaggle\n",
        "!cp kaggle.json ~/.kaggle/"
      ],
      "metadata": {
        "id": "TspDDfc8tgWL"
      },
      "execution_count": null,
      "outputs": []
    },
    {
      "cell_type": "markdown",
      "source": [
        "## Data Loading"
      ],
      "metadata": {
        "id": "m60KD-AMYz1p"
      }
    },
    {
      "cell_type": "code",
      "source": [
        "!kaggle datasets download -d fedesoriano/heart-failure-prediction"
      ],
      "metadata": {
        "colab": {
          "base_uri": "https://localhost:8080/"
        },
        "id": "Lbgngnzxtspw",
        "outputId": "f42f031e-cc84-451c-8a74-569baca3eed7"
      },
      "execution_count": null,
      "outputs": [
        {
          "output_type": "stream",
          "name": "stdout",
          "text": [
            "Warning: Your Kaggle API key is readable by other users on this system! To fix this, you can run 'chmod 600 /root/.kaggle/kaggle.json'\n",
            "Downloading heart-failure-prediction.zip to /content\n",
            "  0% 0.00/8.56k [00:00<?, ?B/s]\n",
            "100% 8.56k/8.56k [00:00<00:00, 7.00MB/s]\n"
          ]
        }
      ]
    },
    {
      "cell_type": "markdown",
      "source": [
        "## Ekstrak Data"
      ],
      "metadata": {
        "id": "SGWQe2mjY6FM"
      }
    },
    {
      "cell_type": "code",
      "source": [
        "local_zip = '/content/heart-failure-prediction.zip'\n",
        "zip_ref = zipfile.ZipFile(local_zip, 'r')\n",
        "zip_ref.extractall('/content')\n",
        "zip_ref.close()"
      ],
      "metadata": {
        "id": "7E3H-XeKue6_"
      },
      "execution_count": null,
      "outputs": []
    },
    {
      "cell_type": "markdown",
      "source": [
        "Data Exploration"
      ],
      "metadata": {
        "id": "8Im5KsXBY-FJ"
      }
    },
    {
      "cell_type": "code",
      "source": [
        "df = pd.read_csv('/content/heart.csv')\n",
        "df"
      ],
      "metadata": {
        "colab": {
          "base_uri": "https://localhost:8080/",
          "height": 424
        },
        "id": "iYe9GDxUu1TD",
        "outputId": "6c186245-1028-4623-c972-2c3c91bba4e6"
      },
      "execution_count": null,
      "outputs": [
        {
          "output_type": "execute_result",
          "data": {
            "text/plain": [
              "     Age Sex ChestPainType  RestingBP  Cholesterol  FastingBS RestingECG  \\\n",
              "0     40   M           ATA        140          289          0     Normal   \n",
              "1     49   F           NAP        160          180          0     Normal   \n",
              "2     37   M           ATA        130          283          0         ST   \n",
              "3     48   F           ASY        138          214          0     Normal   \n",
              "4     54   M           NAP        150          195          0     Normal   \n",
              "..   ...  ..           ...        ...          ...        ...        ...   \n",
              "913   45   M            TA        110          264          0     Normal   \n",
              "914   68   M           ASY        144          193          1     Normal   \n",
              "915   57   M           ASY        130          131          0     Normal   \n",
              "916   57   F           ATA        130          236          0        LVH   \n",
              "917   38   M           NAP        138          175          0     Normal   \n",
              "\n",
              "     MaxHR ExerciseAngina  Oldpeak ST_Slope  HeartDisease  \n",
              "0      172              N      0.0       Up             0  \n",
              "1      156              N      1.0     Flat             1  \n",
              "2       98              N      0.0       Up             0  \n",
              "3      108              Y      1.5     Flat             1  \n",
              "4      122              N      0.0       Up             0  \n",
              "..     ...            ...      ...      ...           ...  \n",
              "913    132              N      1.2     Flat             1  \n",
              "914    141              N      3.4     Flat             1  \n",
              "915    115              Y      1.2     Flat             1  \n",
              "916    174              N      0.0     Flat             1  \n",
              "917    173              N      0.0       Up             0  \n",
              "\n",
              "[918 rows x 12 columns]"
            ],
            "text/html": [
              "\n",
              "  <div id=\"df-b4f04558-9eac-45de-92b2-3e71b0ce9843\">\n",
              "    <div class=\"colab-df-container\">\n",
              "      <div>\n",
              "<style scoped>\n",
              "    .dataframe tbody tr th:only-of-type {\n",
              "        vertical-align: middle;\n",
              "    }\n",
              "\n",
              "    .dataframe tbody tr th {\n",
              "        vertical-align: top;\n",
              "    }\n",
              "\n",
              "    .dataframe thead th {\n",
              "        text-align: right;\n",
              "    }\n",
              "</style>\n",
              "<table border=\"1\" class=\"dataframe\">\n",
              "  <thead>\n",
              "    <tr style=\"text-align: right;\">\n",
              "      <th></th>\n",
              "      <th>Age</th>\n",
              "      <th>Sex</th>\n",
              "      <th>ChestPainType</th>\n",
              "      <th>RestingBP</th>\n",
              "      <th>Cholesterol</th>\n",
              "      <th>FastingBS</th>\n",
              "      <th>RestingECG</th>\n",
              "      <th>MaxHR</th>\n",
              "      <th>ExerciseAngina</th>\n",
              "      <th>Oldpeak</th>\n",
              "      <th>ST_Slope</th>\n",
              "      <th>HeartDisease</th>\n",
              "    </tr>\n",
              "  </thead>\n",
              "  <tbody>\n",
              "    <tr>\n",
              "      <th>0</th>\n",
              "      <td>40</td>\n",
              "      <td>M</td>\n",
              "      <td>ATA</td>\n",
              "      <td>140</td>\n",
              "      <td>289</td>\n",
              "      <td>0</td>\n",
              "      <td>Normal</td>\n",
              "      <td>172</td>\n",
              "      <td>N</td>\n",
              "      <td>0.0</td>\n",
              "      <td>Up</td>\n",
              "      <td>0</td>\n",
              "    </tr>\n",
              "    <tr>\n",
              "      <th>1</th>\n",
              "      <td>49</td>\n",
              "      <td>F</td>\n",
              "      <td>NAP</td>\n",
              "      <td>160</td>\n",
              "      <td>180</td>\n",
              "      <td>0</td>\n",
              "      <td>Normal</td>\n",
              "      <td>156</td>\n",
              "      <td>N</td>\n",
              "      <td>1.0</td>\n",
              "      <td>Flat</td>\n",
              "      <td>1</td>\n",
              "    </tr>\n",
              "    <tr>\n",
              "      <th>2</th>\n",
              "      <td>37</td>\n",
              "      <td>M</td>\n",
              "      <td>ATA</td>\n",
              "      <td>130</td>\n",
              "      <td>283</td>\n",
              "      <td>0</td>\n",
              "      <td>ST</td>\n",
              "      <td>98</td>\n",
              "      <td>N</td>\n",
              "      <td>0.0</td>\n",
              "      <td>Up</td>\n",
              "      <td>0</td>\n",
              "    </tr>\n",
              "    <tr>\n",
              "      <th>3</th>\n",
              "      <td>48</td>\n",
              "      <td>F</td>\n",
              "      <td>ASY</td>\n",
              "      <td>138</td>\n",
              "      <td>214</td>\n",
              "      <td>0</td>\n",
              "      <td>Normal</td>\n",
              "      <td>108</td>\n",
              "      <td>Y</td>\n",
              "      <td>1.5</td>\n",
              "      <td>Flat</td>\n",
              "      <td>1</td>\n",
              "    </tr>\n",
              "    <tr>\n",
              "      <th>4</th>\n",
              "      <td>54</td>\n",
              "      <td>M</td>\n",
              "      <td>NAP</td>\n",
              "      <td>150</td>\n",
              "      <td>195</td>\n",
              "      <td>0</td>\n",
              "      <td>Normal</td>\n",
              "      <td>122</td>\n",
              "      <td>N</td>\n",
              "      <td>0.0</td>\n",
              "      <td>Up</td>\n",
              "      <td>0</td>\n",
              "    </tr>\n",
              "    <tr>\n",
              "      <th>...</th>\n",
              "      <td>...</td>\n",
              "      <td>...</td>\n",
              "      <td>...</td>\n",
              "      <td>...</td>\n",
              "      <td>...</td>\n",
              "      <td>...</td>\n",
              "      <td>...</td>\n",
              "      <td>...</td>\n",
              "      <td>...</td>\n",
              "      <td>...</td>\n",
              "      <td>...</td>\n",
              "      <td>...</td>\n",
              "    </tr>\n",
              "    <tr>\n",
              "      <th>913</th>\n",
              "      <td>45</td>\n",
              "      <td>M</td>\n",
              "      <td>TA</td>\n",
              "      <td>110</td>\n",
              "      <td>264</td>\n",
              "      <td>0</td>\n",
              "      <td>Normal</td>\n",
              "      <td>132</td>\n",
              "      <td>N</td>\n",
              "      <td>1.2</td>\n",
              "      <td>Flat</td>\n",
              "      <td>1</td>\n",
              "    </tr>\n",
              "    <tr>\n",
              "      <th>914</th>\n",
              "      <td>68</td>\n",
              "      <td>M</td>\n",
              "      <td>ASY</td>\n",
              "      <td>144</td>\n",
              "      <td>193</td>\n",
              "      <td>1</td>\n",
              "      <td>Normal</td>\n",
              "      <td>141</td>\n",
              "      <td>N</td>\n",
              "      <td>3.4</td>\n",
              "      <td>Flat</td>\n",
              "      <td>1</td>\n",
              "    </tr>\n",
              "    <tr>\n",
              "      <th>915</th>\n",
              "      <td>57</td>\n",
              "      <td>M</td>\n",
              "      <td>ASY</td>\n",
              "      <td>130</td>\n",
              "      <td>131</td>\n",
              "      <td>0</td>\n",
              "      <td>Normal</td>\n",
              "      <td>115</td>\n",
              "      <td>Y</td>\n",
              "      <td>1.2</td>\n",
              "      <td>Flat</td>\n",
              "      <td>1</td>\n",
              "    </tr>\n",
              "    <tr>\n",
              "      <th>916</th>\n",
              "      <td>57</td>\n",
              "      <td>F</td>\n",
              "      <td>ATA</td>\n",
              "      <td>130</td>\n",
              "      <td>236</td>\n",
              "      <td>0</td>\n",
              "      <td>LVH</td>\n",
              "      <td>174</td>\n",
              "      <td>N</td>\n",
              "      <td>0.0</td>\n",
              "      <td>Flat</td>\n",
              "      <td>1</td>\n",
              "    </tr>\n",
              "    <tr>\n",
              "      <th>917</th>\n",
              "      <td>38</td>\n",
              "      <td>M</td>\n",
              "      <td>NAP</td>\n",
              "      <td>138</td>\n",
              "      <td>175</td>\n",
              "      <td>0</td>\n",
              "      <td>Normal</td>\n",
              "      <td>173</td>\n",
              "      <td>N</td>\n",
              "      <td>0.0</td>\n",
              "      <td>Up</td>\n",
              "      <td>0</td>\n",
              "    </tr>\n",
              "  </tbody>\n",
              "</table>\n",
              "<p>918 rows × 12 columns</p>\n",
              "</div>\n",
              "      <button class=\"colab-df-convert\" onclick=\"convertToInteractive('df-b4f04558-9eac-45de-92b2-3e71b0ce9843')\"\n",
              "              title=\"Convert this dataframe to an interactive table.\"\n",
              "              style=\"display:none;\">\n",
              "        \n",
              "  <svg xmlns=\"http://www.w3.org/2000/svg\" height=\"24px\"viewBox=\"0 0 24 24\"\n",
              "       width=\"24px\">\n",
              "    <path d=\"M0 0h24v24H0V0z\" fill=\"none\"/>\n",
              "    <path d=\"M18.56 5.44l.94 2.06.94-2.06 2.06-.94-2.06-.94-.94-2.06-.94 2.06-2.06.94zm-11 1L8.5 8.5l.94-2.06 2.06-.94-2.06-.94L8.5 2.5l-.94 2.06-2.06.94zm10 10l.94 2.06.94-2.06 2.06-.94-2.06-.94-.94-2.06-.94 2.06-2.06.94z\"/><path d=\"M17.41 7.96l-1.37-1.37c-.4-.4-.92-.59-1.43-.59-.52 0-1.04.2-1.43.59L10.3 9.45l-7.72 7.72c-.78.78-.78 2.05 0 2.83L4 21.41c.39.39.9.59 1.41.59.51 0 1.02-.2 1.41-.59l7.78-7.78 2.81-2.81c.8-.78.8-2.07 0-2.86zM5.41 20L4 18.59l7.72-7.72 1.47 1.35L5.41 20z\"/>\n",
              "  </svg>\n",
              "      </button>\n",
              "      \n",
              "  <style>\n",
              "    .colab-df-container {\n",
              "      display:flex;\n",
              "      flex-wrap:wrap;\n",
              "      gap: 12px;\n",
              "    }\n",
              "\n",
              "    .colab-df-convert {\n",
              "      background-color: #E8F0FE;\n",
              "      border: none;\n",
              "      border-radius: 50%;\n",
              "      cursor: pointer;\n",
              "      display: none;\n",
              "      fill: #1967D2;\n",
              "      height: 32px;\n",
              "      padding: 0 0 0 0;\n",
              "      width: 32px;\n",
              "    }\n",
              "\n",
              "    .colab-df-convert:hover {\n",
              "      background-color: #E2EBFA;\n",
              "      box-shadow: 0px 1px 2px rgba(60, 64, 67, 0.3), 0px 1px 3px 1px rgba(60, 64, 67, 0.15);\n",
              "      fill: #174EA6;\n",
              "    }\n",
              "\n",
              "    [theme=dark] .colab-df-convert {\n",
              "      background-color: #3B4455;\n",
              "      fill: #D2E3FC;\n",
              "    }\n",
              "\n",
              "    [theme=dark] .colab-df-convert:hover {\n",
              "      background-color: #434B5C;\n",
              "      box-shadow: 0px 1px 3px 1px rgba(0, 0, 0, 0.15);\n",
              "      filter: drop-shadow(0px 1px 2px rgba(0, 0, 0, 0.3));\n",
              "      fill: #FFFFFF;\n",
              "    }\n",
              "  </style>\n",
              "\n",
              "      <script>\n",
              "        const buttonEl =\n",
              "          document.querySelector('#df-b4f04558-9eac-45de-92b2-3e71b0ce9843 button.colab-df-convert');\n",
              "        buttonEl.style.display =\n",
              "          google.colab.kernel.accessAllowed ? 'block' : 'none';\n",
              "\n",
              "        async function convertToInteractive(key) {\n",
              "          const element = document.querySelector('#df-b4f04558-9eac-45de-92b2-3e71b0ce9843');\n",
              "          const dataTable =\n",
              "            await google.colab.kernel.invokeFunction('convertToInteractive',\n",
              "                                                     [key], {});\n",
              "          if (!dataTable) return;\n",
              "\n",
              "          const docLinkHtml = 'Like what you see? Visit the ' +\n",
              "            '<a target=\"_blank\" href=https://colab.research.google.com/notebooks/data_table.ipynb>data table notebook</a>'\n",
              "            + ' to learn more about interactive tables.';\n",
              "          element.innerHTML = '';\n",
              "          dataTable['output_type'] = 'display_data';\n",
              "          await google.colab.output.renderOutput(dataTable, element);\n",
              "          const docLink = document.createElement('div');\n",
              "          docLink.innerHTML = docLinkHtml;\n",
              "          element.appendChild(docLink);\n",
              "        }\n",
              "      </script>\n",
              "    </div>\n",
              "  </div>\n",
              "  "
            ]
          },
          "metadata": {},
          "execution_count": 7
        }
      ]
    },
    {
      "cell_type": "code",
      "source": [
        "df.info()"
      ],
      "metadata": {
        "colab": {
          "base_uri": "https://localhost:8080/"
        },
        "id": "knmSW8nsvEsn",
        "outputId": "fc4cfc8b-9a85-4da6-d772-fb5cab20e412"
      },
      "execution_count": null,
      "outputs": [
        {
          "output_type": "stream",
          "name": "stdout",
          "text": [
            "<class 'pandas.core.frame.DataFrame'>\n",
            "RangeIndex: 918 entries, 0 to 917\n",
            "Data columns (total 12 columns):\n",
            " #   Column          Non-Null Count  Dtype  \n",
            "---  ------          --------------  -----  \n",
            " 0   Age             918 non-null    int64  \n",
            " 1   Sex             918 non-null    object \n",
            " 2   ChestPainType   918 non-null    object \n",
            " 3   RestingBP       918 non-null    int64  \n",
            " 4   Cholesterol     918 non-null    int64  \n",
            " 5   FastingBS       918 non-null    int64  \n",
            " 6   RestingECG      918 non-null    object \n",
            " 7   MaxHR           918 non-null    int64  \n",
            " 8   ExerciseAngina  918 non-null    object \n",
            " 9   Oldpeak         918 non-null    float64\n",
            " 10  ST_Slope        918 non-null    object \n",
            " 11  HeartDisease    918 non-null    int64  \n",
            "dtypes: float64(1), int64(6), object(5)\n",
            "memory usage: 86.2+ KB\n"
          ]
        }
      ]
    },
    {
      "cell_type": "code",
      "source": [
        "df.drop(columns=['Sex','ChestPainType', 'RestingECG', 'ExerciseAngina','ST_Slope', 'Oldpeak', 'HeartDisease', 'FastingBS'], inplace=True)"
      ],
      "metadata": {
        "id": "4lR9NodHvNjS"
      },
      "execution_count": null,
      "outputs": []
    },
    {
      "cell_type": "code",
      "source": [
        "df.describe()"
      ],
      "metadata": {
        "colab": {
          "base_uri": "https://localhost:8080/",
          "height": 300
        },
        "id": "IKa1EeXYv7W0",
        "outputId": "82ff16cb-2a2f-49f3-ea6d-efbddecdb880"
      },
      "execution_count": null,
      "outputs": [
        {
          "output_type": "execute_result",
          "data": {
            "text/plain": [
              "              Age   RestingBP  Cholesterol       MaxHR\n",
              "count  918.000000  918.000000   918.000000  918.000000\n",
              "mean    53.510893  132.396514   198.799564  136.809368\n",
              "std      9.432617   18.514154   109.384145   25.460334\n",
              "min     28.000000    0.000000     0.000000   60.000000\n",
              "25%     47.000000  120.000000   173.250000  120.000000\n",
              "50%     54.000000  130.000000   223.000000  138.000000\n",
              "75%     60.000000  140.000000   267.000000  156.000000\n",
              "max     77.000000  200.000000   603.000000  202.000000"
            ],
            "text/html": [
              "\n",
              "  <div id=\"df-65f71510-d616-43c2-8b50-80541a9b47a5\">\n",
              "    <div class=\"colab-df-container\">\n",
              "      <div>\n",
              "<style scoped>\n",
              "    .dataframe tbody tr th:only-of-type {\n",
              "        vertical-align: middle;\n",
              "    }\n",
              "\n",
              "    .dataframe tbody tr th {\n",
              "        vertical-align: top;\n",
              "    }\n",
              "\n",
              "    .dataframe thead th {\n",
              "        text-align: right;\n",
              "    }\n",
              "</style>\n",
              "<table border=\"1\" class=\"dataframe\">\n",
              "  <thead>\n",
              "    <tr style=\"text-align: right;\">\n",
              "      <th></th>\n",
              "      <th>Age</th>\n",
              "      <th>RestingBP</th>\n",
              "      <th>Cholesterol</th>\n",
              "      <th>MaxHR</th>\n",
              "    </tr>\n",
              "  </thead>\n",
              "  <tbody>\n",
              "    <tr>\n",
              "      <th>count</th>\n",
              "      <td>918.000000</td>\n",
              "      <td>918.000000</td>\n",
              "      <td>918.000000</td>\n",
              "      <td>918.000000</td>\n",
              "    </tr>\n",
              "    <tr>\n",
              "      <th>mean</th>\n",
              "      <td>53.510893</td>\n",
              "      <td>132.396514</td>\n",
              "      <td>198.799564</td>\n",
              "      <td>136.809368</td>\n",
              "    </tr>\n",
              "    <tr>\n",
              "      <th>std</th>\n",
              "      <td>9.432617</td>\n",
              "      <td>18.514154</td>\n",
              "      <td>109.384145</td>\n",
              "      <td>25.460334</td>\n",
              "    </tr>\n",
              "    <tr>\n",
              "      <th>min</th>\n",
              "      <td>28.000000</td>\n",
              "      <td>0.000000</td>\n",
              "      <td>0.000000</td>\n",
              "      <td>60.000000</td>\n",
              "    </tr>\n",
              "    <tr>\n",
              "      <th>25%</th>\n",
              "      <td>47.000000</td>\n",
              "      <td>120.000000</td>\n",
              "      <td>173.250000</td>\n",
              "      <td>120.000000</td>\n",
              "    </tr>\n",
              "    <tr>\n",
              "      <th>50%</th>\n",
              "      <td>54.000000</td>\n",
              "      <td>130.000000</td>\n",
              "      <td>223.000000</td>\n",
              "      <td>138.000000</td>\n",
              "    </tr>\n",
              "    <tr>\n",
              "      <th>75%</th>\n",
              "      <td>60.000000</td>\n",
              "      <td>140.000000</td>\n",
              "      <td>267.000000</td>\n",
              "      <td>156.000000</td>\n",
              "    </tr>\n",
              "    <tr>\n",
              "      <th>max</th>\n",
              "      <td>77.000000</td>\n",
              "      <td>200.000000</td>\n",
              "      <td>603.000000</td>\n",
              "      <td>202.000000</td>\n",
              "    </tr>\n",
              "  </tbody>\n",
              "</table>\n",
              "</div>\n",
              "      <button class=\"colab-df-convert\" onclick=\"convertToInteractive('df-65f71510-d616-43c2-8b50-80541a9b47a5')\"\n",
              "              title=\"Convert this dataframe to an interactive table.\"\n",
              "              style=\"display:none;\">\n",
              "        \n",
              "  <svg xmlns=\"http://www.w3.org/2000/svg\" height=\"24px\"viewBox=\"0 0 24 24\"\n",
              "       width=\"24px\">\n",
              "    <path d=\"M0 0h24v24H0V0z\" fill=\"none\"/>\n",
              "    <path d=\"M18.56 5.44l.94 2.06.94-2.06 2.06-.94-2.06-.94-.94-2.06-.94 2.06-2.06.94zm-11 1L8.5 8.5l.94-2.06 2.06-.94-2.06-.94L8.5 2.5l-.94 2.06-2.06.94zm10 10l.94 2.06.94-2.06 2.06-.94-2.06-.94-.94-2.06-.94 2.06-2.06.94z\"/><path d=\"M17.41 7.96l-1.37-1.37c-.4-.4-.92-.59-1.43-.59-.52 0-1.04.2-1.43.59L10.3 9.45l-7.72 7.72c-.78.78-.78 2.05 0 2.83L4 21.41c.39.39.9.59 1.41.59.51 0 1.02-.2 1.41-.59l7.78-7.78 2.81-2.81c.8-.78.8-2.07 0-2.86zM5.41 20L4 18.59l7.72-7.72 1.47 1.35L5.41 20z\"/>\n",
              "  </svg>\n",
              "      </button>\n",
              "      \n",
              "  <style>\n",
              "    .colab-df-container {\n",
              "      display:flex;\n",
              "      flex-wrap:wrap;\n",
              "      gap: 12px;\n",
              "    }\n",
              "\n",
              "    .colab-df-convert {\n",
              "      background-color: #E8F0FE;\n",
              "      border: none;\n",
              "      border-radius: 50%;\n",
              "      cursor: pointer;\n",
              "      display: none;\n",
              "      fill: #1967D2;\n",
              "      height: 32px;\n",
              "      padding: 0 0 0 0;\n",
              "      width: 32px;\n",
              "    }\n",
              "\n",
              "    .colab-df-convert:hover {\n",
              "      background-color: #E2EBFA;\n",
              "      box-shadow: 0px 1px 2px rgba(60, 64, 67, 0.3), 0px 1px 3px 1px rgba(60, 64, 67, 0.15);\n",
              "      fill: #174EA6;\n",
              "    }\n",
              "\n",
              "    [theme=dark] .colab-df-convert {\n",
              "      background-color: #3B4455;\n",
              "      fill: #D2E3FC;\n",
              "    }\n",
              "\n",
              "    [theme=dark] .colab-df-convert:hover {\n",
              "      background-color: #434B5C;\n",
              "      box-shadow: 0px 1px 3px 1px rgba(0, 0, 0, 0.15);\n",
              "      filter: drop-shadow(0px 1px 2px rgba(0, 0, 0, 0.3));\n",
              "      fill: #FFFFFF;\n",
              "    }\n",
              "  </style>\n",
              "\n",
              "      <script>\n",
              "        const buttonEl =\n",
              "          document.querySelector('#df-65f71510-d616-43c2-8b50-80541a9b47a5 button.colab-df-convert');\n",
              "        buttonEl.style.display =\n",
              "          google.colab.kernel.accessAllowed ? 'block' : 'none';\n",
              "\n",
              "        async function convertToInteractive(key) {\n",
              "          const element = document.querySelector('#df-65f71510-d616-43c2-8b50-80541a9b47a5');\n",
              "          const dataTable =\n",
              "            await google.colab.kernel.invokeFunction('convertToInteractive',\n",
              "                                                     [key], {});\n",
              "          if (!dataTable) return;\n",
              "\n",
              "          const docLinkHtml = 'Like what you see? Visit the ' +\n",
              "            '<a target=\"_blank\" href=https://colab.research.google.com/notebooks/data_table.ipynb>data table notebook</a>'\n",
              "            + ' to learn more about interactive tables.';\n",
              "          element.innerHTML = '';\n",
              "          dataTable['output_type'] = 'display_data';\n",
              "          await google.colab.output.renderOutput(dataTable, element);\n",
              "          const docLink = document.createElement('div');\n",
              "          docLink.innerHTML = docLinkHtml;\n",
              "          element.appendChild(docLink);\n",
              "        }\n",
              "      </script>\n",
              "    </div>\n",
              "  </div>\n",
              "  "
            ]
          },
          "metadata": {},
          "execution_count": 10
        }
      ]
    },
    {
      "cell_type": "markdown",
      "source": [
        "### Mengecek Missing Value"
      ],
      "metadata": {
        "id": "VkhyblfiZ0M6"
      }
    },
    {
      "cell_type": "code",
      "source": [
        "df.isnull().sum()"
      ],
      "metadata": {
        "colab": {
          "base_uri": "https://localhost:8080/"
        },
        "id": "TM7C0PNdgKrB",
        "outputId": "35422505-c2d5-4006-f1a8-9cfbd944c934"
      },
      "execution_count": null,
      "outputs": [
        {
          "output_type": "execute_result",
          "data": {
            "text/plain": [
              "Age            0\n",
              "RestingBP      0\n",
              "Cholesterol    0\n",
              "MaxHR          0\n",
              "dtype: int64"
            ]
          },
          "metadata": {},
          "execution_count": 10
        }
      ]
    },
    {
      "cell_type": "markdown",
      "source": [
        "Dari output isnull().sum() terlihat bahwa setiap fitur tidak memiliki nilai NULL maupun NAN sehingga sekarang kita bisa lanjutkan ke tahapan selanjutnya yaitu menangani outliers."
      ],
      "metadata": {
        "id": "k5fzX_ixZ7U3"
      }
    },
    {
      "cell_type": "markdown",
      "source": [
        "### Menangani Outliers\n",
        "* Pada kasus ini kita akan mendeteksi outliers dengan teknis visualisasi data atau boxplot. Kemudian kita akan menangani outliers dengan metode IQR.\n",
        "\n",
        "Sekaran kita akan melakukan visualisasi pada fitur numerik."
      ],
      "metadata": {
        "id": "bj006AgLZ-eN"
      }
    },
    {
      "cell_type": "markdown",
      "source": [
        "1. Fitur Age"
      ],
      "metadata": {
        "id": "Gt--w3rgaZXK"
      }
    },
    {
      "cell_type": "code",
      "source": [
        "sns.boxplot(x=df['Age'])"
      ],
      "metadata": {
        "colab": {
          "base_uri": "https://localhost:8080/",
          "height": 296
        },
        "id": "49BJlbtwgX3X",
        "outputId": "9e9133c0-bddb-4fbf-e6a2-6f3539367a87"
      },
      "execution_count": null,
      "outputs": [
        {
          "output_type": "execute_result",
          "data": {
            "text/plain": [
              "<matplotlib.axes._subplots.AxesSubplot at 0x7f97f77ce050>"
            ]
          },
          "metadata": {},
          "execution_count": 11
        },
        {
          "output_type": "display_data",
          "data": {
            "text/plain": [
              "<Figure size 432x288 with 1 Axes>"
            ],
            "image/png": "[encoded data removed]"
          },
          "metadata": {
            "needs_background": "light"
          }
        }
      ]
    },
    {
      "cell_type": "markdown",
      "source": [
        "2. Fitur RestingBP"
      ],
      "metadata": {
        "id": "ULt7B-WMadiA"
      }
    },
    {
      "cell_type": "code",
      "source": [
        "sns.boxplot(x=df['RestingBP'])"
      ],
      "metadata": {
        "colab": {
          "base_uri": "https://localhost:8080/",
          "height": 296
        },
        "id": "Mupste0igfvv",
        "outputId": "9c837c10-6e79-47d6-a9bd-49a11b84f083"
      },
      "execution_count": null,
      "outputs": [
        {
          "output_type": "execute_result",
          "data": {
            "text/plain": [
              "<matplotlib.axes._subplots.AxesSubplot at 0x7f97e7bab850>"
            ]
          },
          "metadata": {},
          "execution_count": 12
        },
        {
          "output_type": "display_data",
          "data": {
            "text/plain": [
              "<Figure size 432x288 with 1 Axes>"
            ],
            "image/png": "[encoded data removed]"
          },
          "metadata": {
            "needs_background": "light"
          }
        }
      ]
    },
    {
      "cell_type": "markdown",
      "source": [
        "3. Fitur Cholesterol"
      ],
      "metadata": {
        "id": "eV246Dw6agoQ"
      }
    },
    {
      "cell_type": "code",
      "source": [
        "sns.boxplot(x=df['Cholesterol'])"
      ],
      "metadata": {
        "colab": {
          "base_uri": "https://localhost:8080/",
          "height": 296
        },
        "id": "GRj_DlrRgmIZ",
        "outputId": "e4fc881e-765b-40e4-f4f5-fd2f0f5ffb06"
      },
      "execution_count": null,
      "outputs": [
        {
          "output_type": "execute_result",
          "data": {
            "text/plain": [
              "<matplotlib.axes._subplots.AxesSubplot at 0x7f97e76ecdd0>"
            ]
          },
          "metadata": {},
          "execution_count": 13
        },
        {
          "output_type": "display_data",
          "data": {
            "text/plain": [
              "<Figure size 432x288 with 1 Axes>"
            ],
            "image/png": "[encoded data removed]"
          },
          "metadata": {
            "needs_background": "light"
          }
        }
      ]
    },
    {
      "cell_type": "markdown",
      "source": [
        "4. Fitur MaxHR"
      ],
      "metadata": {
        "id": "fhtBuu5jalZ5"
      }
    },
    {
      "cell_type": "code",
      "source": [
        "sns.boxplot(x=df['MaxHR']) (Target)"
      ],
      "metadata": {
        "colab": {
          "base_uri": "https://localhost:8080/",
          "height": 296
        },
        "id": "4K-x35ExgtVl",
        "outputId": "10a84c40-0d3b-4fdd-9a0b-11edfcb1a454"
      },
      "execution_count": null,
      "outputs": [
        {
          "output_type": "execute_result",
          "data": {
            "text/plain": [
              "<matplotlib.axes._subplots.AxesSubplot at 0x7f97e766a090>"
            ]
          },
          "metadata": {},
          "execution_count": 14
        },
        {
          "output_type": "display_data",
          "data": {
            "text/plain": [
              "<Figure size 432x288 with 1 Axes>"
            ],
            "image/png": "[encoded data removed]"
          },
          "metadata": {
            "needs_background": "light"
          }
        }
      ]
    },
    {
      "cell_type": "markdown",
      "source": [
        "pada beberapa fitur numerik di atas terdapat outliers kecuali di fitur Age. Kita akan menggunakan metode IQR untuk mengidentifikasi outlier yang berada di luar Q1 dan Q3. Nilai apa pun yang berada di luar batas ini dianggap sebagai outlier.\n",
        "Menggunakan persamaan berikut:\n",
        "\n",
        "* Batas bawah = Q1 - 1.5 * IQR\n",
        "* Batas atas = Q3 + 1.5 * IQR"
      ],
      "metadata": {
        "id": "rE7eVor6a4zM"
      }
    },
    {
      "cell_type": "code",
      "source": [
        "Q1 = df.quantile(0.25)\n",
        "Q3 = df.quantile(0.75)\n",
        "IQR = Q3 - Q1\n",
        "\n",
        "batas_bawah = Q1 - 1.5 * IQR\n",
        "batas_atas = Q3 + 1.5 * IQR\n",
        "\n",
        "print(f\"Sebelum proses menghilangkan outlier, ukuran dataset adalah {df.shape}\")\n",
        "# Proses menghilangkan outlier\n",
        "df = df[\n",
        "    ~((df < batas_bawah) | (df > batas_atas)).any(axis=1)\n",
        "]\n",
        "\n",
        "# Cek ukuran dataset setelah kita hilangkan outlier\n",
        "print(f\"Setelah proses menghilangkan outlier, ukuran dataset adalah {df.shape}\")"
      ],
      "metadata": {
        "colab": {
          "base_uri": "https://localhost:8080/"
        },
        "id": "mLPSncU_hEjm",
        "outputId": "70d67e2f-2f75-4672-e628-0ad968bf9e36"
      },
      "execution_count": null,
      "outputs": [
        {
          "output_type": "stream",
          "name": "stdout",
          "text": [
            "Sebelum proses menghilangkan outlier, ukuran dataset adalah (918, 4)\n",
            "Setelah proses menghilangkan outlier, ukuran dataset adalah (715, 4)\n"
          ]
        }
      ]
    },
    {
      "cell_type": "markdown",
      "source": [
        "Banyak outlier yang dibersihkan sebanyak 918 - 715 = 203 (baris atau sampel). Kita akan cek kembali dengan boxplot setelah membersihkan outlier."
      ],
      "metadata": {
        "id": "T4n1m5aLbVF3"
      }
    },
    {
      "cell_type": "code",
      "source": [
        "for fitur in df.keys():\n",
        "  sns.boxplot(x=df[fitur])\n",
        "  plt.show()"
      ],
      "metadata": {
        "colab": {
          "base_uri": "https://localhost:8080/",
          "height": 1000
        },
        "id": "3CUhA353hGbk",
        "outputId": "0c16fb10-2fcd-42a4-cac0-140deb84dffa"
      },
      "execution_count": null,
      "outputs": [
        {
          "output_type": "display_data",
          "data": {
            "text/plain": [
              "<Figure size 432x288 with 1 Axes>"
            ],
            "image/png": "[encoded data removed]"
          },
          "metadata": {
            "needs_background": "light"
          }
        },
        {
          "output_type": "display_data",
          "data": {
            "text/plain": [
              "<Figure size 432x288 with 1 Axes>"
            ],
            "image/png": "[encoded data removed]"
          },
          "metadata": {
            "needs_background": "light"
          }
        },
        {
          "output_type": "display_data",
          "data": {
            "text/plain": [
              "<Figure size 432x288 with 1 Axes>"
            ],
            "image/png": "[encoded data removed]"
          },
          "metadata": {
            "needs_background": "light"
          }
        },
        {
          "output_type": "display_data",
          "data": {
            "text/plain": [
              "<Figure size 432x288 with 1 Axes>"
            ],
            "image/png": "[encoded data removed]"
          },
          "metadata": {
            "needs_background": "light"
          }
        }
      ]
    },
    {
      "cell_type": "markdown",
      "source": [
        "Dari hasil deteksi ulang diatas dapat dilihat bahwa outlier sudah berkurang setelah proses pembersihan."
      ],
      "metadata": {
        "id": "oN7psc_Ebm4a"
      }
    },
    {
      "cell_type": "markdown",
      "source": [
        "### Univariate Analysis\n",
        "\n",
        "Analisa Fitur Numerik"
      ],
      "metadata": {
        "id": "Ku8OI4e9b2Fy"
      }
    },
    {
      "cell_type": "code",
      "source": [
        "sns.set(style=\"ticks\", color_codes=True)\n",
        "df.hist(bins=50, figsize=(15, 12))\n",
        "plt.show()"
      ],
      "metadata": {
        "colab": {
          "base_uri": "https://localhost:8080/",
          "height": 719
        },
        "id": "nC2oKUOWhK4b",
        "outputId": "f300d1a5-c3bc-44a0-f6da-8508db720cab"
      },
      "execution_count": null,
      "outputs": [
        {
          "output_type": "display_data",
          "data": {
            "text/plain": [
              "<Figure size 1080x864 with 4 Axes>"
            ],
            "image/png": "[encoded data removed]"
          },
          "metadata": {}
        }
      ]
    },
    {
      "cell_type": "markdown",
      "source": [
        "### Multivariate Analysis\n",
        "\n",
        "Hubungan antara Fitur Numerik\n",
        "* Untuk mengamati hubungan antara fitur numerik, kita akan menggunakan fungsi pairplot()."
      ],
      "metadata": {
        "id": "DZDa-j5BcEw4"
      }
    },
    {
      "cell_type": "code",
      "source": [
        "sns.set(style=\"ticks\", color_codes=True)\n",
        "sns.pairplot(df,\n",
        "             kind=\"reg\",\n",
        "             markers=\"+\",\n",
        "             diag_kind='kde',\n",
        "             plot_kws={'line_kws': {'color':'red'},\n",
        "                       'scatter_kws': {'alpha': 0.5}})"
      ],
      "metadata": {
        "colab": {
          "base_uri": "https://localhost:8080/",
          "height": 741
        },
        "id": "b1rpX0z7hQbq",
        "outputId": "656dc7aa-16e9-49b7-c51c-6e0c6ab25b6b"
      },
      "execution_count": null,
      "outputs": [
        {
          "output_type": "execute_result",
          "data": {
            "text/plain": [
              "<seaborn.axisgrid.PairGrid at 0x7f97e715c750>"
            ]
          },
          "metadata": {},
          "execution_count": 18
        },
        {
          "output_type": "display_data",
          "data": {
            "text/plain": [
              "<Figure size 720x720 with 20 Axes>"
            ],
            "image/png": "[encoded data removed]"
          },
          "metadata": {}
        }
      ]
    },
    {
      "cell_type": "markdown",
      "source": [
        "Pada pola sebaran data grafik pairplot di atas, terlihat fitur Age, RestingBP dan Cholesterol memiliki korelasi kuat (negatif / berkebalikan) dengan fitur MaxHR (target). Untuk mengevaluasi skor korelasinya, kita akan gunakan fungsi corr() sebagai berikut"
      ],
      "metadata": {
        "id": "LiCgZEYoccYs"
      }
    },
    {
      "cell_type": "code",
      "source": [
        "plt.figure(figsize=(10, 8))\n",
        "correlation_matrix = df.corr().round(2)\n",
        "\n",
        "# Untuk menge-print nilai di dalam kotak, gunakan parameter anot=True\n",
        "sns.heatmap(data=correlation_matrix, annot=True, cmap='coolwarm', linewidths=0.5, )\n",
        "plt.title(\"Correlation Matrix untuk Fitur Numerik \", size=20)"
      ],
      "metadata": {
        "colab": {
          "base_uri": "https://localhost:8080/",
          "height": 523
        },
        "id": "DtLOYxXBhWKt",
        "outputId": "58babc76-c5fc-4cfc-d338-c7741baa2750"
      },
      "execution_count": null,
      "outputs": [
        {
          "output_type": "execute_result",
          "data": {
            "text/plain": [
              "Text(0.5, 1.0, 'Correlation Matrix untuk Fitur Numerik ')"
            ]
          },
          "metadata": {},
          "execution_count": 19
        },
        {
          "output_type": "display_data",
          "data": {
            "text/plain": [
              "<Figure size 720x576 with 2 Axes>"
            ],
            "image/png": "[encoded data removed]"
          },
          "metadata": {}
        }
      ]
    },
    {
      "cell_type": "markdown",
      "source": [
        "Koefisien korelasi berkisar antara -1 dan +1. Semakin dekat nilainya ke 1 atau -1, maka korelasinya semakin kuat. Sedangkan, semakin dekat nilainya ke 0 maka korelasinya semakin lemah."
      ],
      "metadata": {
        "id": "6jSH0ODwcx07"
      }
    },
    {
      "cell_type": "markdown",
      "source": [
        "## Data Preparation\n",
        "\n",
        "Train Test Split\n",
        "\n",
        "Pada kasus ini kita akan menggunakan proporsi pembagian sebesar 90:10 dengan fungsi train_test_split dari sklearn."
      ],
      "metadata": {
        "id": "pKLb_1QMdHTg"
      }
    },
    {
      "cell_type": "code",
      "source": [
        "from sklearn.model_selection import train_test_split\n",
        " \n",
        "X = df.drop([\"MaxHR\"], axis =1)\n",
        "y = df[\"MaxHR\"]\n",
        "X_train, X_test, y_train, y_test = train_test_split(X, y, test_size = 0.1, random_state = 123)\n",
        "\n",
        "# Cek hasil pembagian dataset\n",
        "print(f'Total # of sample in whole dataset: {len(X)}')\n",
        "print(f'Total # of sample in train dataset: {len(X_train)}')\n",
        "print(f'Total # of sample in test dataset: {len(X_test)}')"
      ],
      "metadata": {
        "colab": {
          "base_uri": "https://localhost:8080/"
        },
        "id": "lssc1lYthwMl",
        "outputId": "9f7166ce-e652-48db-cc0b-6617c9e380bd"
      },
      "execution_count": null,
      "outputs": [
        {
          "output_type": "stream",
          "name": "stdout",
          "text": [
            "Total # of sample in whole dataset: 715\n",
            "Total # of sample in train dataset: 643\n",
            "Total # of sample in test dataset: 72\n"
          ]
        }
      ]
    },
    {
      "cell_type": "markdown",
      "source": [
        "## Standarisasi\n",
        "Proses standarisasi bertujuan untuk membuat fitur data menjadi bentuk yang lebih mudah diolah oleh algoritma. Kita akan menggunakan teknik StandarScaler dari library Scikitlearn.\n",
        "\n",
        "StandardScaler melakukan proses standarisasi fitur dengan mengurangkan mean kemudian membaginya dengan standar deviasi untuk menggeser distribusi. StandarScaler menghasilkan distribusi deviasi sama dengan 1 dan mean sama dengan 0."
      ],
      "metadata": {
        "id": "JQNUQUOtdWHk"
      }
    },
    {
      "cell_type": "code",
      "source": [
        "scaler = StandardScaler()\n",
        "scaler.fit(X_train)\n",
        "X_train_scaled = pd.DataFrame(scaler.transform(X_train), columns=X_train.keys())\n",
        "display(X_train_scaled.describe().round(4))"
      ],
      "metadata": {
        "colab": {
          "base_uri": "https://localhost:8080/",
          "height": 300
        },
        "id": "DBtizY9OiRqh",
        "outputId": "0da653e7-95ec-45e1-d0ed-95bdaef898fd"
      },
      "execution_count": null,
      "outputs": [
        {
          "output_type": "display_data",
          "data": {
            "text/plain": [
              "            Age  RestingBP  Cholesterol\n",
              "count  643.0000   643.0000     643.0000\n",
              "mean    -0.0000    -0.0000      -0.0000\n",
              "std      1.0008     1.0008       1.0008\n",
              "min     -2.5792    -2.5511      -3.0561\n",
              "25%     -0.7060    -0.7346      -0.6503\n",
              "50%      0.1266    -0.0859      -0.0981\n",
              "75%      0.6469     0.5629       0.6315\n",
              "max      2.5201     2.5092       3.2937"
            ],
            "text/html": [
              "\n",
              "  <div id=\"df-3efd9690-e2ce-4ce2-84f5-82a6d1c26b1d\">\n",
              "    <div class=\"colab-df-container\">\n",
              "      <div>\n",
              "<style scoped>\n",
              "    .dataframe tbody tr th:only-of-type {\n",
              "        vertical-align: middle;\n",
              "    }\n",
              "\n",
              "    .dataframe tbody tr th {\n",
              "        vertical-align: top;\n",
              "    }\n",
              "\n",
              "    .dataframe thead th {\n",
              "        text-align: right;\n",
              "    }\n",
              "</style>\n",
              "<table border=\"1\" class=\"dataframe\">\n",
              "  <thead>\n",
              "    <tr style=\"text-align: right;\">\n",
              "      <th></th>\n",
              "      <th>Age</th>\n",
              "      <th>RestingBP</th>\n",
              "      <th>Cholesterol</th>\n",
              "    </tr>\n",
              "  </thead>\n",
              "  <tbody>\n",
              "    <tr>\n",
              "      <th>count</th>\n",
              "      <td>643.0000</td>\n",
              "      <td>643.0000</td>\n",
              "      <td>643.0000</td>\n",
              "    </tr>\n",
              "    <tr>\n",
              "      <th>mean</th>\n",
              "      <td>-0.0000</td>\n",
              "      <td>-0.0000</td>\n",
              "      <td>-0.0000</td>\n",
              "    </tr>\n",
              "    <tr>\n",
              "      <th>std</th>\n",
              "      <td>1.0008</td>\n",
              "      <td>1.0008</td>\n",
              "      <td>1.0008</td>\n",
              "    </tr>\n",
              "    <tr>\n",
              "      <th>min</th>\n",
              "      <td>-2.5792</td>\n",
              "      <td>-2.5511</td>\n",
              "      <td>-3.0561</td>\n",
              "    </tr>\n",
              "    <tr>\n",
              "      <th>25%</th>\n",
              "      <td>-0.7060</td>\n",
              "      <td>-0.7346</td>\n",
              "      <td>-0.6503</td>\n",
              "    </tr>\n",
              "    <tr>\n",
              "      <th>50%</th>\n",
              "      <td>0.1266</td>\n",
              "      <td>-0.0859</td>\n",
              "      <td>-0.0981</td>\n",
              "    </tr>\n",
              "    <tr>\n",
              "      <th>75%</th>\n",
              "      <td>0.6469</td>\n",
              "      <td>0.5629</td>\n",
              "      <td>0.6315</td>\n",
              "    </tr>\n",
              "    <tr>\n",
              "      <th>max</th>\n",
              "      <td>2.5201</td>\n",
              "      <td>2.5092</td>\n",
              "      <td>3.2937</td>\n",
              "    </tr>\n",
              "  </tbody>\n",
              "</table>\n",
              "</div>\n",
              "      <button class=\"colab-df-convert\" onclick=\"convertToInteractive('df-3efd9690-e2ce-4ce2-84f5-82a6d1c26b1d')\"\n",
              "              title=\"Convert this dataframe to an interactive table.\"\n",
              "              style=\"display:none;\">\n",
              "        \n",
              "  <svg xmlns=\"http://www.w3.org/2000/svg\" height=\"24px\"viewBox=\"0 0 24 24\"\n",
              "       width=\"24px\">\n",
              "    <path d=\"M0 0h24v24H0V0z\" fill=\"none\"/>\n",
              "    <path d=\"M18.56 5.44l.94 2.06.94-2.06 2.06-.94-2.06-.94-.94-2.06-.94 2.06-2.06.94zm-11 1L8.5 8.5l.94-2.06 2.06-.94-2.06-.94L8.5 2.5l-.94 2.06-2.06.94zm10 10l.94 2.06.94-2.06 2.06-.94-2.06-.94-.94-2.06-.94 2.06-2.06.94z\"/><path d=\"M17.41 7.96l-1.37-1.37c-.4-.4-.92-.59-1.43-.59-.52 0-1.04.2-1.43.59L10.3 9.45l-7.72 7.72c-.78.78-.78 2.05 0 2.83L4 21.41c.39.39.9.59 1.41.59.51 0 1.02-.2 1.41-.59l7.78-7.78 2.81-2.81c.8-.78.8-2.07 0-2.86zM5.41 20L4 18.59l7.72-7.72 1.47 1.35L5.41 20z\"/>\n",
              "  </svg>\n",
              "      </button>\n",
              "      \n",
              "  <style>\n",
              "    .colab-df-container {\n",
              "      display:flex;\n",
              "      flex-wrap:wrap;\n",
              "      gap: 12px;\n",
              "    }\n",
              "\n",
              "    .colab-df-convert {\n",
              "      background-color: #E8F0FE;\n",
              "      border: none;\n",
              "      border-radius: 50%;\n",
              "      cursor: pointer;\n",
              "      display: none;\n",
              "      fill: #1967D2;\n",
              "      height: 32px;\n",
              "      padding: 0 0 0 0;\n",
              "      width: 32px;\n",
              "    }\n",
              "\n",
              "    .colab-df-convert:hover {\n",
              "      background-color: #E2EBFA;\n",
              "      box-shadow: 0px 1px 2px rgba(60, 64, 67, 0.3), 0px 1px 3px 1px rgba(60, 64, 67, 0.15);\n",
              "      fill: #174EA6;\n",
              "    }\n",
              "\n",
              "    [theme=dark] .colab-df-convert {\n",
              "      background-color: #3B4455;\n",
              "      fill: #D2E3FC;\n",
              "    }\n",
              "\n",
              "    [theme=dark] .colab-df-convert:hover {\n",
              "      background-color: #434B5C;\n",
              "      box-shadow: 0px 1px 3px 1px rgba(0, 0, 0, 0.15);\n",
              "      filter: drop-shadow(0px 1px 2px rgba(0, 0, 0, 0.3));\n",
              "      fill: #FFFFFF;\n",
              "    }\n",
              "  </style>\n",
              "\n",
              "      <script>\n",
              "        const buttonEl =\n",
              "          document.querySelector('#df-3efd9690-e2ce-4ce2-84f5-82a6d1c26b1d button.colab-df-convert');\n",
              "        buttonEl.style.display =\n",
              "          google.colab.kernel.accessAllowed ? 'block' : 'none';\n",
              "\n",
              "        async function convertToInteractive(key) {\n",
              "          const element = document.querySelector('#df-3efd9690-e2ce-4ce2-84f5-82a6d1c26b1d');\n",
              "          const dataTable =\n",
              "            await google.colab.kernel.invokeFunction('convertToInteractive',\n",
              "                                                     [key], {});\n",
              "          if (!dataTable) return;\n",
              "\n",
              "          const docLinkHtml = 'Like what you see? Visit the ' +\n",
              "            '<a target=\"_blank\" href=https://colab.research.google.com/notebooks/data_table.ipynb>data table notebook</a>'\n",
              "            + ' to learn more about interactive tables.';\n",
              "          element.innerHTML = '';\n",
              "          dataTable['output_type'] = 'display_data';\n",
              "          await google.colab.output.renderOutput(dataTable, element);\n",
              "          const docLink = document.createElement('div');\n",
              "          docLink.innerHTML = docLinkHtml;\n",
              "          element.appendChild(docLink);\n",
              "        }\n",
              "      </script>\n",
              "    </div>\n",
              "  </div>\n",
              "  "
            ]
          },
          "metadata": {}
        }
      ]
    },
    {
      "cell_type": "markdown",
      "source": [
        "### Non Linear Scaling"
      ],
      "metadata": {
        "id": "HdUFy8eTdhBv"
      }
    },
    {
      "cell_type": "code",
      "source": [
        "X_train_scaled_temp = X_train_scaled.copy()\n",
        "list_name_ori_fitur = X_train_scaled_temp.keys()\n",
        "\n",
        "# Standardize=false karena sudah dilakukan standarisasi sebelumnya\n",
        "yj_scaler = PowerTransformer(method='yeo-johnson', standardize=False)\n",
        "yj_df = pd.DataFrame(\n",
        "    yj_scaler.fit_transform(X_train_scaled_temp),\n",
        "    columns=list_name_ori_fitur)\n",
        "\n",
        "for fitur in list_name_ori_fitur:\n",
        "  X_train_scaled['YJ_' + fitur] = yj_df[fitur]"
      ],
      "metadata": {
        "id": "v3Xf6-HEiacf"
      },
      "execution_count": null,
      "outputs": []
    },
    {
      "cell_type": "markdown",
      "source": [
        "Cek histogram untuk distribusi data pada setiap fitur setelah dilakukan non-linear scaling dengan metode Yeo-Johnson."
      ],
      "metadata": {
        "id": "C8NeEZQ6drRn"
      }
    },
    {
      "cell_type": "code",
      "source": [
        "sns.set(style=\"ticks\", color_codes=True)\n",
        "for fitur in list_name_ori_fitur:\n",
        "  X_train_scaled[[fitur,\"YJ_\" + fitur]].hist(bins=50, figsize=(10, 3))\n",
        "plt.show()"
      ],
      "metadata": {
        "colab": {
          "base_uri": "https://localhost:8080/",
          "height": 653
        },
        "id": "ap8n6nJiim0w",
        "outputId": "77fa0a7f-80d9-4405-e68d-eaf16718645c"
      },
      "execution_count": null,
      "outputs": [
        {
          "output_type": "display_data",
          "data": {
            "text/plain": [
              "<Figure size 720x216 with 2 Axes>"
            ],
            "image/png": "[encoded data removed]"
          },
          "metadata": {}
        },
        {
          "output_type": "display_data",
          "data": {
            "text/plain": [
              "<Figure size 720x216 with 2 Axes>"
            ],
            "image/png": "[encoded data removed]"
          },
          "metadata": {}
        },
        {
          "output_type": "display_data",
          "data": {
            "text/plain": [
              "<Figure size 720x216 with 2 Axes>"
            ],
            "image/png": "[encoded data removed]"
          },
          "metadata": {}
        }
      ]
    },
    {
      "cell_type": "markdown",
      "source": [
        "Selanjutnya kita drop Age, Cholesterol, RestingBP karena sudah tergantikan dengan YJ_Age, YJ_Cholesterol, YJ_RestingBP yang lebih mendekati distribusi normal"
      ],
      "metadata": {
        "id": "V5BluWZbdyZx"
      }
    },
    {
      "cell_type": "code",
      "source": [
        "X_train_scaled.drop(['Age', 'Cholesterol', 'RestingBP'], axis=1, inplace=True)\n",
        "display(X_train_scaled.head())"
      ],
      "metadata": {
        "colab": {
          "base_uri": "https://localhost:8080/",
          "height": 206
        },
        "id": "s1xgsOVairx6",
        "outputId": "361c41ae-82eb-4b84-96b3-000b4b47f7bf"
      },
      "execution_count": null,
      "outputs": [
        {
          "output_type": "display_data",
          "data": {
            "text/plain": [
              "     YJ_Age  YJ_RestingBP  YJ_Cholesterol\n",
              "0  1.090936      1.155298       -0.342871\n",
              "1 -0.287288     -0.086245       -0.138987\n",
              "2 -0.081367     -1.317209       -0.199607\n",
              "3 -0.081367      0.548715       -3.139484\n",
              "4  0.127054     -0.418297        0.624043"
            ],
            "text/html": [
              "\n",
              "  <div id=\"df-d69df11a-9998-4f0e-81f2-6e796fae27ad\">\n",
              "    <div class=\"colab-df-container\">\n",
              "      <div>\n",
              "<style scoped>\n",
              "    .dataframe tbody tr th:only-of-type {\n",
              "        vertical-align: middle;\n",
              "    }\n",
              "\n",
              "    .dataframe tbody tr th {\n",
              "        vertical-align: top;\n",
              "    }\n",
              "\n",
              "    .dataframe thead th {\n",
              "        text-align: right;\n",
              "    }\n",
              "</style>\n",
              "<table border=\"1\" class=\"dataframe\">\n",
              "  <thead>\n",
              "    <tr style=\"text-align: right;\">\n",
              "      <th></th>\n",
              "      <th>YJ_Age</th>\n",
              "      <th>YJ_RestingBP</th>\n",
              "      <th>YJ_Cholesterol</th>\n",
              "    </tr>\n",
              "  </thead>\n",
              "  <tbody>\n",
              "    <tr>\n",
              "      <th>0</th>\n",
              "      <td>1.090936</td>\n",
              "      <td>1.155298</td>\n",
              "      <td>-0.342871</td>\n",
              "    </tr>\n",
              "    <tr>\n",
              "      <th>1</th>\n",
              "      <td>-0.287288</td>\n",
              "      <td>-0.086245</td>\n",
              "      <td>-0.138987</td>\n",
              "    </tr>\n",
              "    <tr>\n",
              "      <th>2</th>\n",
              "      <td>-0.081367</td>\n",
              "      <td>-1.317209</td>\n",
              "      <td>-0.199607</td>\n",
              "    </tr>\n",
              "    <tr>\n",
              "      <th>3</th>\n",
              "      <td>-0.081367</td>\n",
              "      <td>0.548715</td>\n",
              "      <td>-3.139484</td>\n",
              "    </tr>\n",
              "    <tr>\n",
              "      <th>4</th>\n",
              "      <td>0.127054</td>\n",
              "      <td>-0.418297</td>\n",
              "      <td>0.624043</td>\n",
              "    </tr>\n",
              "  </tbody>\n",
              "</table>\n",
              "</div>\n",
              "      <button class=\"colab-df-convert\" onclick=\"convertToInteractive('df-d69df11a-9998-4f0e-81f2-6e796fae27ad')\"\n",
              "              title=\"Convert this dataframe to an interactive table.\"\n",
              "              style=\"display:none;\">\n",
              "        \n",
              "  <svg xmlns=\"http://www.w3.org/2000/svg\" height=\"24px\"viewBox=\"0 0 24 24\"\n",
              "       width=\"24px\">\n",
              "    <path d=\"M0 0h24v24H0V0z\" fill=\"none\"/>\n",
              "    <path d=\"M18.56 5.44l.94 2.06.94-2.06 2.06-.94-2.06-.94-.94-2.06-.94 2.06-2.06.94zm-11 1L8.5 8.5l.94-2.06 2.06-.94-2.06-.94L8.5 2.5l-.94 2.06-2.06.94zm10 10l.94 2.06.94-2.06 2.06-.94-2.06-.94-.94-2.06-.94 2.06-2.06.94z\"/><path d=\"M17.41 7.96l-1.37-1.37c-.4-.4-.92-.59-1.43-.59-.52 0-1.04.2-1.43.59L10.3 9.45l-7.72 7.72c-.78.78-.78 2.05 0 2.83L4 21.41c.39.39.9.59 1.41.59.51 0 1.02-.2 1.41-.59l7.78-7.78 2.81-2.81c.8-.78.8-2.07 0-2.86zM5.41 20L4 18.59l7.72-7.72 1.47 1.35L5.41 20z\"/>\n",
              "  </svg>\n",
              "      </button>\n",
              "      \n",
              "  <style>\n",
              "    .colab-df-container {\n",
              "      display:flex;\n",
              "      flex-wrap:wrap;\n",
              "      gap: 12px;\n",
              "    }\n",
              "\n",
              "    .colab-df-convert {\n",
              "      background-color: #E8F0FE;\n",
              "      border: none;\n",
              "      border-radius: 50%;\n",
              "      cursor: pointer;\n",
              "      display: none;\n",
              "      fill: #1967D2;\n",
              "      height: 32px;\n",
              "      padding: 0 0 0 0;\n",
              "      width: 32px;\n",
              "    }\n",
              "\n",
              "    .colab-df-convert:hover {\n",
              "      background-color: #E2EBFA;\n",
              "      box-shadow: 0px 1px 2px rgba(60, 64, 67, 0.3), 0px 1px 3px 1px rgba(60, 64, 67, 0.15);\n",
              "      fill: #174EA6;\n",
              "    }\n",
              "\n",
              "    [theme=dark] .colab-df-convert {\n",
              "      background-color: #3B4455;\n",
              "      fill: #D2E3FC;\n",
              "    }\n",
              "\n",
              "    [theme=dark] .colab-df-convert:hover {\n",
              "      background-color: #434B5C;\n",
              "      box-shadow: 0px 1px 3px 1px rgba(0, 0, 0, 0.15);\n",
              "      filter: drop-shadow(0px 1px 2px rgba(0, 0, 0, 0.3));\n",
              "      fill: #FFFFFF;\n",
              "    }\n",
              "  </style>\n",
              "\n",
              "      <script>\n",
              "        const buttonEl =\n",
              "          document.querySelector('#df-d69df11a-9998-4f0e-81f2-6e796fae27ad button.colab-df-convert');\n",
              "        buttonEl.style.display =\n",
              "          google.colab.kernel.accessAllowed ? 'block' : 'none';\n",
              "\n",
              "        async function convertToInteractive(key) {\n",
              "          const element = document.querySelector('#df-d69df11a-9998-4f0e-81f2-6e796fae27ad');\n",
              "          const dataTable =\n",
              "            await google.colab.kernel.invokeFunction('convertToInteractive',\n",
              "                                                     [key], {});\n",
              "          if (!dataTable) return;\n",
              "\n",
              "          const docLinkHtml = 'Like what you see? Visit the ' +\n",
              "            '<a target=\"_blank\" href=https://colab.research.google.com/notebooks/data_table.ipynb>data table notebook</a>'\n",
              "            + ' to learn more about interactive tables.';\n",
              "          element.innerHTML = '';\n",
              "          dataTable['output_type'] = 'display_data';\n",
              "          await google.colab.output.renderOutput(dataTable, element);\n",
              "          const docLink = document.createElement('div');\n",
              "          docLink.innerHTML = docLinkHtml;\n",
              "          element.appendChild(docLink);\n",
              "        }\n",
              "      </script>\n",
              "    </div>\n",
              "  </div>\n",
              "  "
            ]
          },
          "metadata": {}
        }
      ]
    },
    {
      "cell_type": "code",
      "source": [
        "sns.set(style=\"ticks\", color_codes=True)\n",
        "sns.pairplot(X_train_scaled[['YJ_Age', 'YJ_Cholesterol', 'YJ_RestingBP']],\n",
        "             kind=\"reg\",\n",
        "             markers=\"+\",\n",
        "             diag_kind='kde',\n",
        "             plot_kws={'line_kws': {'color':'red'},\n",
        "                       'scatter_kws': {'alpha': 0.5}})"
      ],
      "metadata": {
        "colab": {
          "base_uri": "https://localhost:8080/",
          "height": 565
        },
        "id": "wiKcOGtxjKSl",
        "outputId": "87986ced-8b3b-42a9-b942-cde09dd26520"
      },
      "execution_count": null,
      "outputs": [
        {
          "output_type": "execute_result",
          "data": {
            "text/plain": [
              "<seaborn.axisgrid.PairGrid at 0x7f97e701c250>"
            ]
          },
          "metadata": {},
          "execution_count": 25
        },
        {
          "output_type": "display_data",
          "data": {
            "text/plain": [
              "<Figure size 540x540 with 12 Axes>"
            ],
            "image/png": "[encoded data removed]"
          },
          "metadata": {}
        }
      ]
    },
    {
      "cell_type": "markdown",
      "source": [
        "## Transformasi Data Uji\n",
        "Selanjutnya kita perlu melakukan proses transformasi data terhadap data uji dengan scaler dari proses standarisasi, yj_scaler dari proses non-linear scaling (metode yeo-johnson) dan proses pca untuk digunakan pada proses evaluasi model. Biasanya proses ini dilakukan setelah proses training model, namun kita lakukan sekarang dengan tujuan supaya dapat digunakan untuk mencari nilai k optimum pada model KNN (bagian selanjutnya)."
      ],
      "metadata": {
        "id": "jfsafAJTeLPn"
      }
    },
    {
      "cell_type": "code",
      "source": [
        "# Scaling terhadap proses standarisasi pada data uji\n",
        "X_test_standardize = scaler.transform(X_test)\n",
        "\n",
        "# Scaling terhadap proses non-linear scaling (metode yeo-johnson) pada data uji\n",
        "# dan menyimpan kembali dalam format DataFrame\n",
        "X_test_scaled = pd.DataFrame(\n",
        "    yj_scaler.transform(X_test_standardize),\n",
        "    columns=[\"YJ_\" + fitur for fitur in list_name_ori_fitur])\n",
        "\n",
        "# Cek hasil scaling\n",
        "display(X_test_scaled)"
      ],
      "metadata": {
        "colab": {
          "base_uri": "https://localhost:8080/",
          "height": 478
        },
        "id": "zmLPfFVSkRKN",
        "outputId": "9d648ae6-3acb-4314-a429-56beb6616eb7"
      },
      "execution_count": null,
      "outputs": [
        {
          "output_type": "stream",
          "name": "stderr",
          "text": [
            "/usr/local/lib/python3.7/dist-packages/sklearn/base.py:451: UserWarning: X does not have valid feature names, but PowerTransformer was fitted with feature names\n",
            "  \"X does not have valid feature names, but\"\n"
          ]
        },
        {
          "output_type": "display_data",
          "data": {
            "text/plain": [
              "      YJ_Age  YJ_RestingBP  YJ_Cholesterol\n",
              "0  -1.290533     -0.086245        0.768722\n",
              "1   0.022513      0.424439       -0.118889\n",
              "2   1.309520      0.235717        0.271086\n",
              "3  -1.191754      0.235717       -0.764601\n",
              "4   0.765720     -0.086245        0.252090\n",
              "..       ...           ...             ...\n",
              "67 -1.487266      0.424439       -1.380644\n",
              "68  0.550908     -0.086245        0.440066\n",
              "69  1.200062     -0.758673        0.117742\n",
              "70 -0.287288      2.316302       -0.636302\n",
              "71 -0.793545     -1.459144        0.458633\n",
              "\n",
              "[72 rows x 3 columns]"
            ],
            "text/html": [
              "\n",
              "  <div id=\"df-d8f323d8-964d-4152-ae1e-e68eba98f60a\">\n",
              "    <div class=\"colab-df-container\">\n",
              "      <div>\n",
              "<style scoped>\n",
              "    .dataframe tbody tr th:only-of-type {\n",
              "        vertical-align: middle;\n",
              "    }\n",
              "\n",
              "    .dataframe tbody tr th {\n",
              "        vertical-align: top;\n",
              "    }\n",
              "\n",
              "    .dataframe thead th {\n",
              "        text-align: right;\n",
              "    }\n",
              "</style>\n",
              "<table border=\"1\" class=\"dataframe\">\n",
              "  <thead>\n",
              "    <tr style=\"text-align: right;\">\n",
              "      <th></th>\n",
              "      <th>YJ_Age</th>\n",
              "      <th>YJ_RestingBP</th>\n",
              "      <th>YJ_Cholesterol</th>\n",
              "    </tr>\n",
              "  </thead>\n",
              "  <tbody>\n",
              "    <tr>\n",
              "      <th>0</th>\n",
              "      <td>-1.290533</td>\n",
              "      <td>-0.086245</td>\n",
              "      <td>0.768722</td>\n",
              "    </tr>\n",
              "    <tr>\n",
              "      <th>1</th>\n",
              "      <td>0.022513</td>\n",
              "      <td>0.424439</td>\n",
              "      <td>-0.118889</td>\n",
              "    </tr>\n",
              "    <tr>\n",
              "      <th>2</th>\n",
              "      <td>1.309520</td>\n",
              "      <td>0.235717</td>\n",
              "      <td>0.271086</td>\n",
              "    </tr>\n",
              "    <tr>\n",
              "      <th>3</th>\n",
              "      <td>-1.191754</td>\n",
              "      <td>0.235717</td>\n",
              "      <td>-0.764601</td>\n",
              "    </tr>\n",
              "    <tr>\n",
              "      <th>4</th>\n",
              "      <td>0.765720</td>\n",
              "      <td>-0.086245</td>\n",
              "      <td>0.252090</td>\n",
              "    </tr>\n",
              "    <tr>\n",
              "      <th>...</th>\n",
              "      <td>...</td>\n",
              "      <td>...</td>\n",
              "      <td>...</td>\n",
              "    </tr>\n",
              "    <tr>\n",
              "      <th>67</th>\n",
              "      <td>-1.487266</td>\n",
              "      <td>0.424439</td>\n",
              "      <td>-1.380644</td>\n",
              "    </tr>\n",
              "    <tr>\n",
              "      <th>68</th>\n",
              "      <td>0.550908</td>\n",
              "      <td>-0.086245</td>\n",
              "      <td>0.440066</td>\n",
              "    </tr>\n",
              "    <tr>\n",
              "      <th>69</th>\n",
              "      <td>1.200062</td>\n",
              "      <td>-0.758673</td>\n",
              "      <td>0.117742</td>\n",
              "    </tr>\n",
              "    <tr>\n",
              "      <th>70</th>\n",
              "      <td>-0.287288</td>\n",
              "      <td>2.316302</td>\n",
              "      <td>-0.636302</td>\n",
              "    </tr>\n",
              "    <tr>\n",
              "      <th>71</th>\n",
              "      <td>-0.793545</td>\n",
              "      <td>-1.459144</td>\n",
              "      <td>0.458633</td>\n",
              "    </tr>\n",
              "  </tbody>\n",
              "</table>\n",
              "<p>72 rows × 3 columns</p>\n",
              "</div>\n",
              "      <button class=\"colab-df-convert\" onclick=\"convertToInteractive('df-d8f323d8-964d-4152-ae1e-e68eba98f60a')\"\n",
              "              title=\"Convert this dataframe to an interactive table.\"\n",
              "              style=\"display:none;\">\n",
              "        \n",
              "  <svg xmlns=\"http://www.w3.org/2000/svg\" height=\"24px\"viewBox=\"0 0 24 24\"\n",
              "       width=\"24px\">\n",
              "    <path d=\"M0 0h24v24H0V0z\" fill=\"none\"/>\n",
              "    <path d=\"M18.56 5.44l.94 2.06.94-2.06 2.06-.94-2.06-.94-.94-2.06-.94 2.06-2.06.94zm-11 1L8.5 8.5l.94-2.06 2.06-.94-2.06-.94L8.5 2.5l-.94 2.06-2.06.94zm10 10l.94 2.06.94-2.06 2.06-.94-2.06-.94-.94-2.06-.94 2.06-2.06.94z\"/><path d=\"M17.41 7.96l-1.37-1.37c-.4-.4-.92-.59-1.43-.59-.52 0-1.04.2-1.43.59L10.3 9.45l-7.72 7.72c-.78.78-.78 2.05 0 2.83L4 21.41c.39.39.9.59 1.41.59.51 0 1.02-.2 1.41-.59l7.78-7.78 2.81-2.81c.8-.78.8-2.07 0-2.86zM5.41 20L4 18.59l7.72-7.72 1.47 1.35L5.41 20z\"/>\n",
              "  </svg>\n",
              "      </button>\n",
              "      \n",
              "  <style>\n",
              "    .colab-df-container {\n",
              "      display:flex;\n",
              "      flex-wrap:wrap;\n",
              "      gap: 12px;\n",
              "    }\n",
              "\n",
              "    .colab-df-convert {\n",
              "      background-color: #E8F0FE;\n",
              "      border: none;\n",
              "      border-radius: 50%;\n",
              "      cursor: pointer;\n",
              "      display: none;\n",
              "      fill: #1967D2;\n",
              "      height: 32px;\n",
              "      padding: 0 0 0 0;\n",
              "      width: 32px;\n",
              "    }\n",
              "\n",
              "    .colab-df-convert:hover {\n",
              "      background-color: #E2EBFA;\n",
              "      box-shadow: 0px 1px 2px rgba(60, 64, 67, 0.3), 0px 1px 3px 1px rgba(60, 64, 67, 0.15);\n",
              "      fill: #174EA6;\n",
              "    }\n",
              "\n",
              "    [theme=dark] .colab-df-convert {\n",
              "      background-color: #3B4455;\n",
              "      fill: #D2E3FC;\n",
              "    }\n",
              "\n",
              "    [theme=dark] .colab-df-convert:hover {\n",
              "      background-color: #434B5C;\n",
              "      box-shadow: 0px 1px 3px 1px rgba(0, 0, 0, 0.15);\n",
              "      filter: drop-shadow(0px 1px 2px rgba(0, 0, 0, 0.3));\n",
              "      fill: #FFFFFF;\n",
              "    }\n",
              "  </style>\n",
              "\n",
              "      <script>\n",
              "        const buttonEl =\n",
              "          document.querySelector('#df-d8f323d8-964d-4152-ae1e-e68eba98f60a button.colab-df-convert');\n",
              "        buttonEl.style.display =\n",
              "          google.colab.kernel.accessAllowed ? 'block' : 'none';\n",
              "\n",
              "        async function convertToInteractive(key) {\n",
              "          const element = document.querySelector('#df-d8f323d8-964d-4152-ae1e-e68eba98f60a');\n",
              "          const dataTable =\n",
              "            await google.colab.kernel.invokeFunction('convertToInteractive',\n",
              "                                                     [key], {});\n",
              "          if (!dataTable) return;\n",
              "\n",
              "          const docLinkHtml = 'Like what you see? Visit the ' +\n",
              "            '<a target=\"_blank\" href=https://colab.research.google.com/notebooks/data_table.ipynb>data table notebook</a>'\n",
              "            + ' to learn more about interactive tables.';\n",
              "          element.innerHTML = '';\n",
              "          dataTable['output_type'] = 'display_data';\n",
              "          await google.colab.output.renderOutput(dataTable, element);\n",
              "          const docLink = document.createElement('div');\n",
              "          docLink.innerHTML = docLinkHtml;\n",
              "          element.appendChild(docLink);\n",
              "        }\n",
              "      </script>\n",
              "    </div>\n",
              "  </div>\n",
              "  "
            ]
          },
          "metadata": {}
        }
      ]
    },
    {
      "cell_type": "markdown",
      "source": [
        "## Model Development\n",
        "Dengan menggunakan 3 algoritma untuk kasus regresi ini, dan selanjutnya mengevaluasi performa masing-masing algoritma dan menentukan mana yang dapat memberikan hasil prediksi terbaik. Tiga Algoritma tersebut yaitu :\n",
        "1.  K-Nearest Neighbor ( Memiliki kelebihan yaitu mudah dipahami dan digunakan sedangkan kekurangannya kika dihadapkan pada jumlah fitur atau dimensi yang besar rawan terjadi bias)\n",
        "2. Random Forest ( Kelebihannya menggunakan teknik Bagging yang berusaha melawan overfitting dengan berjalan secara paralel. Sedangkan kekurangannya ada pada kompleksitas algoritma Random Forest yang membutuhkan waktu relatif lebih lama dan daya komputasi yang lebih tinggi)\n",
        "3. Boosting Algorithm ( Kelebihan algoritma Boosting adalah menggunakan teknik Boosting yang berusaha menurunkan bias dengan berjalan secara sekuensial (memperbaiki model di tiap tahapnya). Sedangkan kekurangannya hampir sama dengan algoritma Random Forest dari segi kompleksitas komputasi yang menjadikan waktu pelatihan relatif lebih lama, selain itu noisy dan outliers sangat berpengaruh dalam algoritma ini)\n",
        "\n",
        "Untuk langkah pertama, kita akan siapkan DataFrame baru untuk menampung nilai metrik (MSE - Mean Squared Error) pada setiap model / algoritma. Hal ini berguna untuk melakukan analisa perbandingan antar model."
      ],
      "metadata": {
        "id": "AdJrwNoOeaJw"
      }
    },
    {
      "cell_type": "code",
      "source": [
        "# Siapkan dataframe untuk analisis model\n",
        "df_models = pd.DataFrame(index=['Train MSE', 'Test MSE'], \n",
        "                      columns=['KNN', 'RandomForest', 'Boosting'])"
      ],
      "metadata": {
        "id": "iKKkPU8dkmem"
      },
      "execution_count": 57,
      "outputs": []
    },
    {
      "cell_type": "markdown",
      "source": [
        "### Model K-Nearest Neighbor"
      ],
      "metadata": {
        "id": "xPULnt4XfjXl"
      }
    },
    {
      "cell_type": "code",
      "source": [
        "list_mse = []\n",
        "for k in range(1, 21):\n",
        "  knn = KNeighborsRegressor(n_neighbors=k)\n",
        "  knn.fit(X_train_scaled, y_train)\n",
        "  y_prediction = knn.predict(X_test_scaled)\n",
        "  test_mse = mean_squared_error(y_test, y_prediction)\n",
        "  list_mse.append(test_mse)\n",
        "  print(f\"Nilai MSE untuk k = {k} adalah : {test_mse}\")"
      ],
      "metadata": {
        "colab": {
          "base_uri": "https://localhost:8080/"
        },
        "id": "VbHqwQH9k0_x",
        "outputId": "9cdebc11-7c37-4fa2-9e65-14f2ffe5aef7"
      },
      "execution_count": 58,
      "outputs": [
        {
          "output_type": "stream",
          "name": "stdout",
          "text": [
            "Nilai MSE untuk k = 1 adalah : 805.2361111111111\n",
            "Nilai MSE untuk k = 2 adalah : 821.3090277777778\n",
            "Nilai MSE untuk k = 3 adalah : 709.4182098765433\n",
            "Nilai MSE untuk k = 4 adalah : 663.4262152777778\n",
            "Nilai MSE untuk k = 5 adalah : 648.811111111111\n",
            "Nilai MSE untuk k = 6 adalah : 602.4282407407406\n",
            "Nilai MSE untuk k = 7 adalah : 616.7352607709751\n",
            "Nilai MSE untuk k = 8 adalah : 587.9147135416666\n",
            "Nilai MSE untuk k = 9 adalah : 559.3713991769548\n",
            "Nilai MSE untuk k = 10 adalah : 526.7788888888889\n",
            "Nilai MSE untuk k = 11 adalah : 524.0421258034894\n",
            "Nilai MSE untuk k = 12 adalah : 535.6108217592592\n",
            "Nilai MSE untuk k = 13 adalah : 515.7409598948061\n",
            "Nilai MSE untuk k = 14 adalah : 510.66567460317464\n",
            "Nilai MSE untuk k = 15 adalah : 514.2585802469135\n",
            "Nilai MSE untuk k = 16 adalah : 508.27577039930554\n",
            "Nilai MSE untuk k = 17 adalah : 501.6978085351788\n",
            "Nilai MSE untuk k = 18 adalah : 499.8245027434841\n",
            "Nilai MSE untuk k = 19 adalah : 494.0378962757771\n",
            "Nilai MSE untuk k = 20 adalah : 490.9088888888889\n"
          ]
        }
      ]
    },
    {
      "cell_type": "code",
      "source": [
        "pd.DataFrame(list_mse, index=range(1, 21)).plot(\n",
        "    xlabel=\"K\",\n",
        "    ylabel=\"MSE\",\n",
        "    legend=False,\n",
        "    xticks=range(1,21), \n",
        "    figsize=(12,4),\n",
        "    title='Visualisasi Nilai K terhadap MSE')"
      ],
      "metadata": {
        "colab": {
          "base_uri": "https://localhost:8080/",
          "height": 279
        },
        "id": "NU-27tqqk2_Q",
        "outputId": "ed774398-4354-45bf-eec3-2f6810ef1c74"
      },
      "execution_count": 59,
      "outputs": [
        {
          "output_type": "execute_result",
          "data": {
            "text/plain": [
              "<matplotlib.axes._subplots.AxesSubplot at 0x7f97e296efd0>"
            ]
          },
          "metadata": {},
          "execution_count": 59
        },
        {
          "output_type": "display_data",
          "data": {
            "text/plain": [
              "<Figure size 864x288 with 1 Axes>"
            ],
            "image/png": "[encoded data removed]"
          },
          "metadata": {}
        }
      ]
    },
    {
      "cell_type": "code",
      "source": [
        "KNN = KNeighborsRegressor(n_neighbors=7)\n",
        "KNN.fit(X_train_scaled, y_train)\n",
        "df_models.loc['Train MSE', 'KNN'] = mean_squared_error(\n",
        "    y_pred=KNN.predict(X_train_scaled),\n",
        "    y_true=y_train)"
      ],
      "metadata": {
        "id": "7G-HWqg9k500"
      },
      "execution_count": 60,
      "outputs": []
    },
    {
      "cell_type": "markdown",
      "source": [
        "### Random Forest\n",
        "\n",
        "Kita akan *menggunakan* RandomForestRegressor dari library scikit-learn dengan base_estimator defaultnya yaitu DecisionTreeRegressor dan parameter-parameter (hyperparameter) yang digunakan antara lain:\n",
        "\n",
        "* n_estimator: jumlah trees (pohon) di forest.\n",
        "* max_depth: kedalaman atau panjang pohon. Ia merupakan ukuran seberapa banyak pohon dapat membelah (splitting) untuk membagi setiap node ke dalam jumlah pengamatan yang diinginkan.\n",
        "random_state: digunakan untuk mengontrol random number generator yang digunakan.\n",
        "* n_jobs: jumlah job (pekerjaan) yang digunakan secara paralel. Ia merupakan komponen untuk mengontrol thread atau proses yang berjalan secara paralel.n_jobs=-1 artinya semua proses berjalan secara paralel.\n",
        "\n",
        "\n",
        "Untuk menentukan nilai hyperparameter (n_estimator & max_depth) di atas, kita akan melakukan tuning dengan RandomizedSearchCV."
      ],
      "metadata": {
        "id": "8PJCdBkefz1P"
      }
    },
    {
      "cell_type": "code",
      "source": [
        "params_rf = {\n",
        "    \"n_estimators\": np.arange(10, 100, 10), # kelipatan 10 mulai dari 10 sampai 90\n",
        "    \"max_depth\": [4, 8, 16, 32]\n",
        "}\n",
        "\n",
        "# Randomized search model\n",
        "rs_model = RandomizedSearchCV(\n",
        "    RandomForestRegressor(n_jobs=-1, random_state=123),\n",
        "    param_distributions=params_rf,\n",
        "    # Ref: https://scikit-learn.org/stable/modules/model_evaluation.html#scoring-parameter\n",
        "    scoring='neg_mean_squared_error', # Negatif dari nilai MSE\n",
        "    verbose=3\n",
        ")\n",
        "\n",
        "rs_model.fit(X_train_scaled, y_train)"
      ],
      "metadata": {
        "colab": {
          "base_uri": "https://localhost:8080/"
        },
        "id": "_rFcr3PKk9gv",
        "outputId": "4d0a9e83-358d-412c-bdb8-bebbf48dd559"
      },
      "execution_count": 61,
      "outputs": [
        {
          "output_type": "stream",
          "name": "stdout",
          "text": [
            "Fitting 5 folds for each of 10 candidates, totalling 50 fits\n",
            "[CV 1/5] END ..max_depth=32, n_estimators=10;, score=-573.617 total time=   1.0s\n",
            "[CV 2/5] END ..max_depth=32, n_estimators=10;, score=-658.495 total time=   0.1s\n",
            "[CV 3/5] END ..max_depth=32, n_estimators=10;, score=-636.415 total time=   0.1s\n",
            "[CV 4/5] END ..max_depth=32, n_estimators=10;, score=-563.092 total time=   0.1s\n",
            "[CV 5/5] END ..max_depth=32, n_estimators=10;, score=-623.641 total time=   0.1s\n",
            "[CV 1/5] END ...max_depth=8, n_estimators=10;, score=-520.915 total time=   0.1s\n",
            "[CV 2/5] END ...max_depth=8, n_estimators=10;, score=-664.891 total time=   0.1s\n",
            "[CV 3/5] END ...max_depth=8, n_estimators=10;, score=-584.079 total time=   0.1s\n",
            "[CV 4/5] END ...max_depth=8, n_estimators=10;, score=-555.259 total time=   0.1s\n",
            "[CV 5/5] END ...max_depth=8, n_estimators=10;, score=-567.891 total time=   0.1s\n",
            "[CV 1/5] END ..max_depth=16, n_estimators=80;, score=-522.496 total time=   0.3s\n",
            "[CV 2/5] END ..max_depth=16, n_estimators=80;, score=-577.694 total time=   0.3s\n",
            "[CV 3/5] END ..max_depth=16, n_estimators=80;, score=-608.683 total time=   0.3s\n",
            "[CV 4/5] END ..max_depth=16, n_estimators=80;, score=-540.962 total time=   0.3s\n",
            "[CV 5/5] END ..max_depth=16, n_estimators=80;, score=-553.156 total time=   0.3s\n",
            "[CV 1/5] END ...max_depth=8, n_estimators=70;, score=-481.785 total time=   0.3s\n",
            "[CV 2/5] END ...max_depth=8, n_estimators=70;, score=-592.284 total time=   0.3s\n",
            "[CV 3/5] END ...max_depth=8, n_estimators=70;, score=-552.828 total time=   0.3s\n",
            "[CV 4/5] END ...max_depth=8, n_estimators=70;, score=-537.576 total time=   0.3s\n",
            "[CV 5/5] END ...max_depth=8, n_estimators=70;, score=-520.845 total time=   0.3s\n",
            "[CV 1/5] END ..max_depth=32, n_estimators=80;, score=-521.454 total time=   0.3s\n",
            "[CV 2/5] END ..max_depth=32, n_estimators=80;, score=-577.403 total time=   0.3s\n",
            "[CV 3/5] END ..max_depth=32, n_estimators=80;, score=-605.474 total time=   0.4s\n",
            "[CV 4/5] END ..max_depth=32, n_estimators=80;, score=-540.801 total time=   0.3s\n",
            "[CV 5/5] END ..max_depth=32, n_estimators=80;, score=-553.904 total time=   0.3s\n",
            "[CV 1/5] END ..max_depth=16, n_estimators=60;, score=-516.356 total time=   0.3s\n",
            "[CV 2/5] END ..max_depth=16, n_estimators=60;, score=-577.109 total time=   0.3s\n",
            "[CV 3/5] END ..max_depth=16, n_estimators=60;, score=-613.476 total time=   0.3s\n",
            "[CV 4/5] END ..max_depth=16, n_estimators=60;, score=-536.954 total time=   0.3s\n",
            "[CV 5/5] END ..max_depth=16, n_estimators=60;, score=-552.023 total time=   0.3s\n",
            "[CV 1/5] END ...max_depth=8, n_estimators=90;, score=-488.163 total time=   0.4s\n",
            "[CV 2/5] END ...max_depth=8, n_estimators=90;, score=-582.943 total time=   0.3s\n",
            "[CV 3/5] END ...max_depth=8, n_estimators=90;, score=-553.592 total time=   0.3s\n",
            "[CV 4/5] END ...max_depth=8, n_estimators=90;, score=-548.889 total time=   0.4s\n",
            "[CV 5/5] END ...max_depth=8, n_estimators=90;, score=-515.967 total time=   0.3s\n",
            "[CV 1/5] END ...max_depth=8, n_estimators=50;, score=-480.846 total time=   0.2s\n",
            "[CV 2/5] END ...max_depth=8, n_estimators=50;, score=-597.295 total time=   0.2s\n",
            "[CV 3/5] END ...max_depth=8, n_estimators=50;, score=-555.748 total time=   0.2s\n",
            "[CV 4/5] END ...max_depth=8, n_estimators=50;, score=-535.898 total time=   0.2s\n",
            "[CV 5/5] END ...max_depth=8, n_estimators=50;, score=-521.109 total time=   0.2s\n",
            "[CV 1/5] END ...max_depth=4, n_estimators=60;, score=-460.697 total time=   0.2s\n",
            "[CV 2/5] END ...max_depth=4, n_estimators=60;, score=-579.449 total time=   0.2s\n",
            "[CV 3/5] END ...max_depth=4, n_estimators=60;, score=-529.770 total time=   0.2s\n",
            "[CV 4/5] END ...max_depth=4, n_estimators=60;, score=-552.433 total time=   0.2s\n",
            "[CV 5/5] END ...max_depth=4, n_estimators=60;, score=-485.418 total time=   0.2s\n",
            "[CV 1/5] END ..max_depth=16, n_estimators=70;, score=-516.173 total time=   0.3s\n",
            "[CV 2/5] END ..max_depth=16, n_estimators=70;, score=-581.265 total time=   0.3s\n",
            "[CV 3/5] END ..max_depth=16, n_estimators=70;, score=-609.842 total time=   0.3s\n",
            "[CV 4/5] END ..max_depth=16, n_estimators=70;, score=-541.728 total time=   0.3s\n",
            "[CV 5/5] END ..max_depth=16, n_estimators=70;, score=-554.774 total time=   0.3s\n"
          ]
        },
        {
          "output_type": "execute_result",
          "data": {
            "text/plain": [
              "RandomizedSearchCV(estimator=RandomForestRegressor(n_jobs=-1, random_state=123),\n",
              "                   param_distributions={'max_depth': [4, 8, 16, 32],\n",
              "                                        'n_estimators': array([10, 20, 30, 40, 50, 60, 70, 80, 90])},\n",
              "                   scoring='neg_mean_squared_error', verbose=3)"
            ]
          },
          "metadata": {},
          "execution_count": 61
        }
      ]
    },
    {
      "cell_type": "markdown",
      "source": [
        "Mengecek hasil tuning hyperparameter dan nilai metrik MSE."
      ],
      "metadata": {
        "id": "bOIbCD7mheO7"
      }
    },
    {
      "cell_type": "code",
      "source": [
        "print(\"Hasil tuning hyperparameter\", rs_model.best_params_)\n",
        "\n",
        "print(\"Nilai MSE model RandomSearchCV_RF dengan data latih\", mean_squared_error(\n",
        "    y_pred=rs_model.predict(X_train_scaled),\n",
        "    y_true=y_train))\n",
        "print(\"Nilai MSE model RandomSearchCV_RF dengan data uji\", mean_squared_error(\n",
        "    y_pred=rs_model.predict(X_test_scaled),\n",
        "    y_true=y_test))"
      ],
      "metadata": {
        "colab": {
          "base_uri": "https://localhost:8080/"
        },
        "id": "fEiKVoOelB9T",
        "outputId": "740d25f8-fbf1-44b2-d6c5-37a901bc155c"
      },
      "execution_count": 62,
      "outputs": [
        {
          "output_type": "stream",
          "name": "stdout",
          "text": [
            "Hasil tuning hyperparameter {'n_estimators': 60, 'max_depth': 4}\n",
            "Nilai MSE model RandomSearchCV_RF dengan data latih 427.89056952517086\n",
            "Nilai MSE model RandomSearchCV_RF dengan data uji 466.24917876999564\n"
          ]
        }
      ]
    },
    {
      "cell_type": "markdown",
      "source": [
        "Dari hasil output di atas diperoleh nilai MSE terbaik dalam jangkauan parameter params_rf yaitu 427.8 (dengan data train) dan 466.2 (dengan data test) dengan n_estimators: 60 dan max_depth: 4. Selanjutnya kita akan menggunakan pengaturan parameter tersebut dan menyimpan nilai MSE nya kedalam df_models yang telah kita siapkan sebelumnya."
      ],
      "metadata": {
        "id": "HvMk0K0ggSF3"
      }
    },
    {
      "cell_type": "code",
      "source": [
        "RF = RandomForestRegressor(n_estimators=60, max_depth=4)\n",
        "RF.fit(X_train_scaled, y_train)\n",
        "\n",
        "df_models.loc['Train MSE', 'RandomForest'] = mean_squared_error(\n",
        "    y_pred=RF.predict(X_train_scaled),\n",
        "    y_true=y_train)"
      ],
      "metadata": {
        "id": "Mg8yukwdlH3h"
      },
      "execution_count": 63,
      "outputs": []
    },
    {
      "cell_type": "markdown",
      "source": [
        "### Boosting Algorithm\n",
        "\n",
        "Pada kasus ini kita akan menggunakan metode Adaptive Boosting. Untuk implementasinya kita menggunakan AdaBoostRegressor dari library sklearn dengan base_estimator defaultnya yaitu DecisionTreeRegressor hampir sama dengan RandomForestRegressor bedanya menggunakan metode teknik Boosting.\n",
        "\n",
        "Parameter-parameter (hyperparameter) yang digunakan pada algoritma ini antara lain:\n",
        "\n",
        "* n_estimator: jumlah estimator dan ketika mencapai nilai jumlah tersebut algoritma Boosting akan dihentikan.\n",
        "* learning_rate: bobot yang diterapkan pada setiap regressor di masing-masing iterasi Boosting.\n",
        "* random_state: digunakan untuk mengontrol random number generator yang digunakan.\n",
        "\n",
        "Untuk menentukan nilai hyperparameter (n_estimator & learning_rate) di atas, kita akan melakukan tuning dengan RandomizedSearchCV."
      ],
      "metadata": {
        "id": "hq3jluHmhGE8"
      }
    },
    {
      "cell_type": "code",
      "source": [
        "params_ab = {\n",
        "    \"n_estimators\": np.arange(10, 100, 10), # kelipatan 10 mulai dari 10 sampai 90\n",
        "    \"learning_rate\": [0.001, 0.01, 0.1, 0.2]\n",
        "}\n",
        "\n",
        "# Randomized search model\n",
        "rs_model_ab = RandomizedSearchCV(\n",
        "    AdaBoostRegressor(random_state=123),\n",
        "    param_distributions=params_ab,\n",
        "    # Ref: https://scikit-learn.org/stable/modules/model_evaluation.html#scoring-parameter\n",
        "    scoring='neg_mean_squared_error', # Negatif dari nilai MSE\n",
        "    verbose=3\n",
        ")\n",
        "\n",
        "rs_model_ab.fit(X_train_scaled, y_train)"
      ],
      "metadata": {
        "colab": {
          "base_uri": "https://localhost:8080/"
        },
        "id": "6rB90OVLlKp8",
        "outputId": "3ee510be-1cc5-40da-b22b-d1136410a4d8"
      },
      "execution_count": 64,
      "outputs": [
        {
          "output_type": "stream",
          "name": "stdout",
          "text": [
            "Fitting 5 folds for each of 10 candidates, totalling 50 fits\n",
            "[CV 1/5] END learning_rate=0.001, n_estimators=10;, score=-470.625 total time=   0.0s\n",
            "[CV 2/5] END learning_rate=0.001, n_estimators=10;, score=-598.133 total time=   0.1s\n",
            "[CV 3/5] END learning_rate=0.001, n_estimators=10;, score=-515.807 total time=   0.0s\n",
            "[CV 4/5] END learning_rate=0.001, n_estimators=10;, score=-564.014 total time=   0.0s\n",
            "[CV 5/5] END learning_rate=0.001, n_estimators=10;, score=-469.572 total time=   0.0s\n",
            "[CV 1/5] END learning_rate=0.001, n_estimators=80;, score=-474.150 total time=   0.3s\n",
            "[CV 2/5] END learning_rate=0.001, n_estimators=80;, score=-578.070 total time=   0.3s\n",
            "[CV 3/5] END learning_rate=0.001, n_estimators=80;, score=-525.666 total time=   0.3s\n",
            "[CV 4/5] END learning_rate=0.001, n_estimators=80;, score=-549.412 total time=   0.3s\n",
            "[CV 5/5] END learning_rate=0.001, n_estimators=80;, score=-480.195 total time=   0.3s\n",
            "[CV 1/5] END learning_rate=0.001, n_estimators=40;, score=-472.299 total time=   0.1s\n",
            "[CV 2/5] END learning_rate=0.001, n_estimators=40;, score=-580.827 total time=   0.1s\n",
            "[CV 3/5] END learning_rate=0.001, n_estimators=40;, score=-524.080 total time=   0.2s\n",
            "[CV 4/5] END learning_rate=0.001, n_estimators=40;, score=-554.830 total time=   0.1s\n",
            "[CV 5/5] END learning_rate=0.001, n_estimators=40;, score=-480.974 total time=   0.1s\n",
            "[CV 1/5] END learning_rate=0.001, n_estimators=60;, score=-469.264 total time=   0.2s\n",
            "[CV 2/5] END learning_rate=0.001, n_estimators=60;, score=-578.145 total time=   0.2s\n",
            "[CV 3/5] END learning_rate=0.001, n_estimators=60;, score=-526.700 total time=   0.2s\n",
            "[CV 4/5] END learning_rate=0.001, n_estimators=60;, score=-549.013 total time=   0.2s\n",
            "[CV 5/5] END learning_rate=0.001, n_estimators=60;, score=-478.646 total time=   0.2s\n",
            "[CV 1/5] END learning_rate=0.01, n_estimators=70;, score=-467.883 total time=   0.2s\n",
            "[CV 2/5] END learning_rate=0.01, n_estimators=70;, score=-573.012 total time=   0.2s\n",
            "[CV 3/5] END learning_rate=0.01, n_estimators=70;, score=-523.926 total time=   0.2s\n",
            "[CV 4/5] END learning_rate=0.01, n_estimators=70;, score=-555.211 total time=   0.3s\n",
            "[CV 5/5] END learning_rate=0.01, n_estimators=70;, score=-481.768 total time=   0.2s\n",
            "[CV 1/5] END learning_rate=0.001, n_estimators=30;, score=-470.578 total time=   0.1s\n",
            "[CV 2/5] END learning_rate=0.001, n_estimators=30;, score=-574.907 total time=   0.1s\n",
            "[CV 3/5] END learning_rate=0.001, n_estimators=30;, score=-529.101 total time=   0.1s\n",
            "[CV 4/5] END learning_rate=0.001, n_estimators=30;, score=-561.384 total time=   0.1s\n",
            "[CV 5/5] END learning_rate=0.001, n_estimators=30;, score=-479.133 total time=   0.1s\n",
            "[CV 1/5] END learning_rate=0.1, n_estimators=20;, score=-467.307 total time=   0.1s\n",
            "[CV 2/5] END learning_rate=0.1, n_estimators=20;, score=-587.473 total time=   0.1s\n",
            "[CV 3/5] END learning_rate=0.1, n_estimators=20;, score=-520.972 total time=   0.2s\n",
            "[CV 4/5] END learning_rate=0.1, n_estimators=20;, score=-538.546 total time=   0.1s\n",
            "[CV 5/5] END learning_rate=0.1, n_estimators=20;, score=-477.863 total time=   0.2s\n",
            "[CV 1/5] END learning_rate=0.1, n_estimators=30;, score=-458.288 total time=   0.1s\n",
            "[CV 2/5] END learning_rate=0.1, n_estimators=30;, score=-586.001 total time=   0.1s\n",
            "[CV 3/5] END learning_rate=0.1, n_estimators=30;, score=-529.777 total time=   0.1s\n",
            "[CV 4/5] END learning_rate=0.1, n_estimators=30;, score=-542.254 total time=   0.1s\n",
            "[CV 5/5] END learning_rate=0.1, n_estimators=30;, score=-488.216 total time=   0.2s\n",
            "[CV 1/5] END learning_rate=0.1, n_estimators=70;, score=-462.222 total time=   0.3s\n",
            "[CV 2/5] END learning_rate=0.1, n_estimators=70;, score=-588.200 total time=   0.3s\n",
            "[CV 3/5] END learning_rate=0.1, n_estimators=70;, score=-530.091 total time=   0.3s\n",
            "[CV 4/5] END learning_rate=0.1, n_estimators=70;, score=-545.821 total time=   0.5s\n",
            "[CV 5/5] END learning_rate=0.1, n_estimators=70;, score=-493.278 total time=   0.3s\n",
            "[CV 1/5] END learning_rate=0.2, n_estimators=60;, score=-453.530 total time=   0.1s\n",
            "[CV 2/5] END learning_rate=0.2, n_estimators=60;, score=-593.012 total time=   0.2s\n",
            "[CV 3/5] END learning_rate=0.2, n_estimators=60;, score=-519.439 total time=   0.2s\n",
            "[CV 4/5] END learning_rate=0.2, n_estimators=60;, score=-533.370 total time=   0.2s\n",
            "[CV 5/5] END learning_rate=0.2, n_estimators=60;, score=-499.292 total time=   0.2s\n"
          ]
        },
        {
          "output_type": "execute_result",
          "data": {
            "text/plain": [
              "RandomizedSearchCV(estimator=AdaBoostRegressor(random_state=123),\n",
              "                   param_distributions={'learning_rate': [0.001, 0.01, 0.1,\n",
              "                                                          0.2],\n",
              "                                        'n_estimators': array([10, 20, 30, 40, 50, 60, 70, 80, 90])},\n",
              "                   scoring='neg_mean_squared_error', verbose=3)"
            ]
          },
          "metadata": {},
          "execution_count": 64
        }
      ]
    },
    {
      "cell_type": "markdown",
      "source": [
        "Mengecek hasil tuning hyperparameter dan nilai metrik MSE"
      ],
      "metadata": {
        "id": "NlqA-2E9iDaw"
      }
    },
    {
      "cell_type": "code",
      "source": [
        "print(\"Hasil tuning hyperparameter\", rs_model_ab.best_params_)\n",
        "\n",
        "# AB = AdaBoosting\n",
        "print(\"Nilai MSE model RandomSearchCV_AB dengan data latih\", mean_squared_error(\n",
        "    y_pred=rs_model_ab.predict(X_train_scaled),\n",
        "    y_true=y_train))\n",
        "print(\"Nilai MSE model RandomSearchCV_AB dengan data uji\", mean_squared_error(\n",
        "    y_pred=rs_model_ab.predict(X_test_scaled),\n",
        "    y_true=y_test))"
      ],
      "metadata": {
        "colab": {
          "base_uri": "https://localhost:8080/"
        },
        "id": "wAuT8FtElNd_",
        "outputId": "988d7ab6-f673-454f-b2dc-fc13f8c20ef1"
      },
      "execution_count": 65,
      "outputs": [
        {
          "output_type": "stream",
          "name": "stdout",
          "text": [
            "Hasil tuning hyperparameter {'n_estimators': 20, 'learning_rate': 0.1}\n",
            "Nilai MSE model RandomSearchCV_AB dengan data latih 468.4522180017724\n",
            "Nilai MSE model RandomSearchCV_AB dengan data uji 485.6626808695716\n"
          ]
        }
      ]
    },
    {
      "cell_type": "markdown",
      "source": [
        "Dari hasil output di atas diperoleh nilai MSE terbaik dalam jangkauan parameter params_ab yaitu 468.4 (dengan data train) dan 485.6 (dengan data test) dengan n_estimators: 20 dan learning_rate: 0.1. Selanjutnya kita akan menggunakan pengaturan parameter tersebut dan menyimpan nilai MSE nya kedalam df_models yang telah kita siapkan sebelumnya."
      ],
      "metadata": {
        "id": "2SsAdfAGiI56"
      }
    },
    {
      "cell_type": "code",
      "source": [
        "boosting = AdaBoostRegressor(n_estimators=20, learning_rate=0.1)\n",
        "boosting.fit(X_train_scaled, y_train)\n",
        "\n",
        "df_models.loc['Train MSE', 'Boosting'] = mean_squared_error(\n",
        "    y_pred=boosting.predict(X_train_scaled),\n",
        "    y_true=y_train)"
      ],
      "metadata": {
        "id": "9msGWEiLlRzx"
      },
      "execution_count": 66,
      "outputs": []
    },
    {
      "cell_type": "markdown",
      "source": [
        "### Evaluasi Model\n",
        "\n",
        "Dari proses sebelumnya, kita telah membuat tiga model yang berbeda dan juga telah melatihnya. Selanjutnya kita perlu mengevaluasi model-model tersebut menggunakan data uji dan metrik yang digunakan dalam kasus ini yaitu mean_squared_error. Hasil evaluasi kemudian kita simpan ke dalam df_models."
      ],
      "metadata": {
        "id": "wFYIJrHoiX3o"
      }
    },
    {
      "cell_type": "code",
      "source": [
        "for name, model in {'KNN': KNN, 'RandomForest': RF, 'Boosting': boosting}.items():\n",
        "  df_models.loc['Test MSE', name] = mean_squared_error(\n",
        "      y_pred=model.predict(X_test_scaled),\n",
        "      y_true=y_test)\n",
        "  \n",
        "# Mengecek evaluasi model\n",
        "display(df_models)"
      ],
      "metadata": {
        "colab": {
          "base_uri": "https://localhost:8080/",
          "height": 112
        },
        "id": "__g2qkUElUQX",
        "outputId": "fe49f4ea-f48f-4943-bba4-db43ab1f1718"
      },
      "execution_count": 67,
      "outputs": [
        {
          "output_type": "display_data",
          "data": {
            "text/plain": [
              "                  KNN RandomForest    Boosting\n",
              "Train MSE  406.660932    429.85124  466.677767\n",
              "Test MSE   616.735261    465.18759  472.990753"
            ],
            "text/html": [
              "\n",
              "  <div id=\"df-7147ad43-0ce2-40e6-b502-e1787de2599e\">\n",
              "    <div class=\"colab-df-container\">\n",
              "      <div>\n",
              "<style scoped>\n",
              "    .dataframe tbody tr th:only-of-type {\n",
              "        vertical-align: middle;\n",
              "    }\n",
              "\n",
              "    .dataframe tbody tr th {\n",
              "        vertical-align: top;\n",
              "    }\n",
              "\n",
              "    .dataframe thead th {\n",
              "        text-align: right;\n",
              "    }\n",
              "</style>\n",
              "<table border=\"1\" class=\"dataframe\">\n",
              "  <thead>\n",
              "    <tr style=\"text-align: right;\">\n",
              "      <th></th>\n",
              "      <th>KNN</th>\n",
              "      <th>RandomForest</th>\n",
              "      <th>Boosting</th>\n",
              "    </tr>\n",
              "  </thead>\n",
              "  <tbody>\n",
              "    <tr>\n",
              "      <th>Train MSE</th>\n",
              "      <td>406.660932</td>\n",
              "      <td>429.85124</td>\n",
              "      <td>466.677767</td>\n",
              "    </tr>\n",
              "    <tr>\n",
              "      <th>Test MSE</th>\n",
              "      <td>616.735261</td>\n",
              "      <td>465.18759</td>\n",
              "      <td>472.990753</td>\n",
              "    </tr>\n",
              "  </tbody>\n",
              "</table>\n",
              "</div>\n",
              "      <button class=\"colab-df-convert\" onclick=\"convertToInteractive('df-7147ad43-0ce2-40e6-b502-e1787de2599e')\"\n",
              "              title=\"Convert this dataframe to an interactive table.\"\n",
              "              style=\"display:none;\">\n",
              "        \n",
              "  <svg xmlns=\"http://www.w3.org/2000/svg\" height=\"24px\"viewBox=\"0 0 24 24\"\n",
              "       width=\"24px\">\n",
              "    <path d=\"M0 0h24v24H0V0z\" fill=\"none\"/>\n",
              "    <path d=\"M18.56 5.44l.94 2.06.94-2.06 2.06-.94-2.06-.94-.94-2.06-.94 2.06-2.06.94zm-11 1L8.5 8.5l.94-2.06 2.06-.94-2.06-.94L8.5 2.5l-.94 2.06-2.06.94zm10 10l.94 2.06.94-2.06 2.06-.94-2.06-.94-.94-2.06-.94 2.06-2.06.94z\"/><path d=\"M17.41 7.96l-1.37-1.37c-.4-.4-.92-.59-1.43-.59-.52 0-1.04.2-1.43.59L10.3 9.45l-7.72 7.72c-.78.78-.78 2.05 0 2.83L4 21.41c.39.39.9.59 1.41.59.51 0 1.02-.2 1.41-.59l7.78-7.78 2.81-2.81c.8-.78.8-2.07 0-2.86zM5.41 20L4 18.59l7.72-7.72 1.47 1.35L5.41 20z\"/>\n",
              "  </svg>\n",
              "      </button>\n",
              "      \n",
              "  <style>\n",
              "    .colab-df-container {\n",
              "      display:flex;\n",
              "      flex-wrap:wrap;\n",
              "      gap: 12px;\n",
              "    }\n",
              "\n",
              "    .colab-df-convert {\n",
              "      background-color: #E8F0FE;\n",
              "      border: none;\n",
              "      border-radius: 50%;\n",
              "      cursor: pointer;\n",
              "      display: none;\n",
              "      fill: #1967D2;\n",
              "      height: 32px;\n",
              "      padding: 0 0 0 0;\n",
              "      width: 32px;\n",
              "    }\n",
              "\n",
              "    .colab-df-convert:hover {\n",
              "      background-color: #E2EBFA;\n",
              "      box-shadow: 0px 1px 2px rgba(60, 64, 67, 0.3), 0px 1px 3px 1px rgba(60, 64, 67, 0.15);\n",
              "      fill: #174EA6;\n",
              "    }\n",
              "\n",
              "    [theme=dark] .colab-df-convert {\n",
              "      background-color: #3B4455;\n",
              "      fill: #D2E3FC;\n",
              "    }\n",
              "\n",
              "    [theme=dark] .colab-df-convert:hover {\n",
              "      background-color: #434B5C;\n",
              "      box-shadow: 0px 1px 3px 1px rgba(0, 0, 0, 0.15);\n",
              "      filter: drop-shadow(0px 1px 2px rgba(0, 0, 0, 0.3));\n",
              "      fill: #FFFFFF;\n",
              "    }\n",
              "  </style>\n",
              "\n",
              "      <script>\n",
              "        const buttonEl =\n",
              "          document.querySelector('#df-7147ad43-0ce2-40e6-b502-e1787de2599e button.colab-df-convert');\n",
              "        buttonEl.style.display =\n",
              "          google.colab.kernel.accessAllowed ? 'block' : 'none';\n",
              "\n",
              "        async function convertToInteractive(key) {\n",
              "          const element = document.querySelector('#df-7147ad43-0ce2-40e6-b502-e1787de2599e');\n",
              "          const dataTable =\n",
              "            await google.colab.kernel.invokeFunction('convertToInteractive',\n",
              "                                                     [key], {});\n",
              "          if (!dataTable) return;\n",
              "\n",
              "          const docLinkHtml = 'Like what you see? Visit the ' +\n",
              "            '<a target=\"_blank\" href=https://colab.research.google.com/notebooks/data_table.ipynb>data table notebook</a>'\n",
              "            + ' to learn more about interactive tables.';\n",
              "          element.innerHTML = '';\n",
              "          dataTable['output_type'] = 'display_data';\n",
              "          await google.colab.output.renderOutput(dataTable, element);\n",
              "          const docLink = document.createElement('div');\n",
              "          docLink.innerHTML = docLinkHtml;\n",
              "          element.appendChild(docLink);\n",
              "        }\n",
              "      </script>\n",
              "    </div>\n",
              "  </div>\n",
              "  "
            ]
          },
          "metadata": {}
        }
      ]
    },
    {
      "cell_type": "markdown",
      "source": [
        "Plot hasil evaluasi model dengan bar chart."
      ],
      "metadata": {
        "id": "bM23vgECiiRB"
      }
    },
    {
      "cell_type": "code",
      "source": [
        "fig, ax = plt.subplots()\n",
        "df_models.T.sort_values(by='Test MSE', ascending=False).plot(kind='barh', ax=ax, zorder=3)\n",
        "ax.grid(zorder=0)"
      ],
      "metadata": {
        "colab": {
          "base_uri": "https://localhost:8080/",
          "height": 268
        },
        "id": "54fWTwiDlV-a",
        "outputId": "0a7bc8ff-d844-4461-bb77-8539b3dd5fb0"
      },
      "execution_count": 68,
      "outputs": [
        {
          "output_type": "display_data",
          "data": {
            "text/plain": [
              "<Figure size 432x288 with 1 Axes>"
            ],
            "image/png": "[encoded data removed]"
          },
          "metadata": {}
        }
      ]
    },
    {
      "cell_type": "markdown",
      "source": [
        "Dari gambar di atas, terlihat bahwa, model RandomForest memberikan nilai eror (MSE) yang paling kecil. Sebelum memutuskan model terbaik untuk melakukan prediksi. Mari kita coba uji prediksi menggunakan beberapa sampel acak (5) pada data uji."
      ],
      "metadata": {
        "id": "bn9EMdLOinmm"
      }
    },
    {
      "cell_type": "code",
      "source": [
        "dict_result = {\n",
        "    'index_sample': [],\n",
        "    'y_true': [],\n",
        "    'prediksi_KNN': [],\n",
        "    'prediksi_RF': [],\n",
        "    'prediksi_Boosting': []\n",
        "}\n",
        "\n",
        "X_sample = X_test_scaled.sample(5)\n",
        "dict_result['index_sample'] = X_sample.index.values\n",
        "dict_result['y_true'] = [y_test.iloc[idx] for idx in dict_result['index_sample']]\n",
        "\n",
        "for name, model in {'KNN': KNN, 'RF': RF, 'Boosting': boosting}.items():\n",
        "  dict_result['prediksi_' + name] = model.predict(X_sample)\n",
        "\n",
        "display(pd.DataFrame(dict_result).set_index('index_sample'))"
      ],
      "metadata": {
        "colab": {
          "base_uri": "https://localhost:8080/",
          "height": 238
        },
        "id": "M0ZPHJTrlfcc",
        "outputId": "b009cc68-bdae-4c94-d161-5145464bebcd"
      },
      "execution_count": 69,
      "outputs": [
        {
          "output_type": "display_data",
          "data": {
            "text/plain": [
              "              y_true  prediksi_KNN  prediksi_RF  prediksi_Boosting\n",
              "index_sample                                                      \n",
              "38               169    138.000000   133.076362         131.962963\n",
              "51               120    150.428571   153.336714         154.040000\n",
              "0                167    133.142857   148.861396         150.538462\n",
              "10               129     96.571429   121.724390         126.375000\n",
              "22               115    117.142857   130.825632         131.711111"
            ],
            "text/html": [
              "\n",
              "  <div id=\"df-0b3be312-c915-4b0f-8f99-d5c99e6d2ea8\">\n",
              "    <div class=\"colab-df-container\">\n",
              "      <div>\n",
              "<style scoped>\n",
              "    .dataframe tbody tr th:only-of-type {\n",
              "        vertical-align: middle;\n",
              "    }\n",
              "\n",
              "    .dataframe tbody tr th {\n",
              "        vertical-align: top;\n",
              "    }\n",
              "\n",
              "    .dataframe thead th {\n",
              "        text-align: right;\n",
              "    }\n",
              "</style>\n",
              "<table border=\"1\" class=\"dataframe\">\n",
              "  <thead>\n",
              "    <tr style=\"text-align: right;\">\n",
              "      <th></th>\n",
              "      <th>y_true</th>\n",
              "      <th>prediksi_KNN</th>\n",
              "      <th>prediksi_RF</th>\n",
              "      <th>prediksi_Boosting</th>\n",
              "    </tr>\n",
              "    <tr>\n",
              "      <th>index_sample</th>\n",
              "      <th></th>\n",
              "      <th></th>\n",
              "      <th></th>\n",
              "      <th></th>\n",
              "    </tr>\n",
              "  </thead>\n",
              "  <tbody>\n",
              "    <tr>\n",
              "      <th>38</th>\n",
              "      <td>169</td>\n",
              "      <td>138.000000</td>\n",
              "      <td>133.076362</td>\n",
              "      <td>131.962963</td>\n",
              "    </tr>\n",
              "    <tr>\n",
              "      <th>51</th>\n",
              "      <td>120</td>\n",
              "      <td>150.428571</td>\n",
              "      <td>153.336714</td>\n",
              "      <td>154.040000</td>\n",
              "    </tr>\n",
              "    <tr>\n",
              "      <th>0</th>\n",
              "      <td>167</td>\n",
              "      <td>133.142857</td>\n",
              "      <td>148.861396</td>\n",
              "      <td>150.538462</td>\n",
              "    </tr>\n",
              "    <tr>\n",
              "      <th>10</th>\n",
              "      <td>129</td>\n",
              "      <td>96.571429</td>\n",
              "      <td>121.724390</td>\n",
              "      <td>126.375000</td>\n",
              "    </tr>\n",
              "    <tr>\n",
              "      <th>22</th>\n",
              "      <td>115</td>\n",
              "      <td>117.142857</td>\n",
              "      <td>130.825632</td>\n",
              "      <td>131.711111</td>\n",
              "    </tr>\n",
              "  </tbody>\n",
              "</table>\n",
              "</div>\n",
              "      <button class=\"colab-df-convert\" onclick=\"convertToInteractive('df-0b3be312-c915-4b0f-8f99-d5c99e6d2ea8')\"\n",
              "              title=\"Convert this dataframe to an interactive table.\"\n",
              "              style=\"display:none;\">\n",
              "        \n",
              "  <svg xmlns=\"http://www.w3.org/2000/svg\" height=\"24px\"viewBox=\"0 0 24 24\"\n",
              "       width=\"24px\">\n",
              "    <path d=\"M0 0h24v24H0V0z\" fill=\"none\"/>\n",
              "    <path d=\"M18.56 5.44l.94 2.06.94-2.06 2.06-.94-2.06-.94-.94-2.06-.94 2.06-2.06.94zm-11 1L8.5 8.5l.94-2.06 2.06-.94-2.06-.94L8.5 2.5l-.94 2.06-2.06.94zm10 10l.94 2.06.94-2.06 2.06-.94-2.06-.94-.94-2.06-.94 2.06-2.06.94z\"/><path d=\"M17.41 7.96l-1.37-1.37c-.4-.4-.92-.59-1.43-.59-.52 0-1.04.2-1.43.59L10.3 9.45l-7.72 7.72c-.78.78-.78 2.05 0 2.83L4 21.41c.39.39.9.59 1.41.59.51 0 1.02-.2 1.41-.59l7.78-7.78 2.81-2.81c.8-.78.8-2.07 0-2.86zM5.41 20L4 18.59l7.72-7.72 1.47 1.35L5.41 20z\"/>\n",
              "  </svg>\n",
              "      </button>\n",
              "      \n",
              "  <style>\n",
              "    .colab-df-container {\n",
              "      display:flex;\n",
              "      flex-wrap:wrap;\n",
              "      gap: 12px;\n",
              "    }\n",
              "\n",
              "    .colab-df-convert {\n",
              "      background-color: #E8F0FE;\n",
              "      border: none;\n",
              "      border-radius: 50%;\n",
              "      cursor: pointer;\n",
              "      display: none;\n",
              "      fill: #1967D2;\n",
              "      height: 32px;\n",
              "      padding: 0 0 0 0;\n",
              "      width: 32px;\n",
              "    }\n",
              "\n",
              "    .colab-df-convert:hover {\n",
              "      background-color: #E2EBFA;\n",
              "      box-shadow: 0px 1px 2px rgba(60, 64, 67, 0.3), 0px 1px 3px 1px rgba(60, 64, 67, 0.15);\n",
              "      fill: #174EA6;\n",
              "    }\n",
              "\n",
              "    [theme=dark] .colab-df-convert {\n",
              "      background-color: #3B4455;\n",
              "      fill: #D2E3FC;\n",
              "    }\n",
              "\n",
              "    [theme=dark] .colab-df-convert:hover {\n",
              "      background-color: #434B5C;\n",
              "      box-shadow: 0px 1px 3px 1px rgba(0, 0, 0, 0.15);\n",
              "      filter: drop-shadow(0px 1px 2px rgba(0, 0, 0, 0.3));\n",
              "      fill: #FFFFFF;\n",
              "    }\n",
              "  </style>\n",
              "\n",
              "      <script>\n",
              "        const buttonEl =\n",
              "          document.querySelector('#df-0b3be312-c915-4b0f-8f99-d5c99e6d2ea8 button.colab-df-convert');\n",
              "        buttonEl.style.display =\n",
              "          google.colab.kernel.accessAllowed ? 'block' : 'none';\n",
              "\n",
              "        async function convertToInteractive(key) {\n",
              "          const element = document.querySelector('#df-0b3be312-c915-4b0f-8f99-d5c99e6d2ea8');\n",
              "          const dataTable =\n",
              "            await google.colab.kernel.invokeFunction('convertToInteractive',\n",
              "                                                     [key], {});\n",
              "          if (!dataTable) return;\n",
              "\n",
              "          const docLinkHtml = 'Like what you see? Visit the ' +\n",
              "            '<a target=\"_blank\" href=https://colab.research.google.com/notebooks/data_table.ipynb>data table notebook</a>'\n",
              "            + ' to learn more about interactive tables.';\n",
              "          element.innerHTML = '';\n",
              "          dataTable['output_type'] = 'display_data';\n",
              "          await google.colab.output.renderOutput(dataTable, element);\n",
              "          const docLink = document.createElement('div');\n",
              "          docLink.innerHTML = docLinkHtml;\n",
              "          element.appendChild(docLink);\n",
              "        }\n",
              "      </script>\n",
              "    </div>\n",
              "  </div>\n",
              "  "
            ]
          },
          "metadata": {}
        }
      ]
    },
    {
      "cell_type": "markdown",
      "source": [
        "Terlihat bahwa prediksi dengan Random Forest (RF) memberikan hasil yang paling mendekati."
      ],
      "metadata": {
        "id": "D3M81lqxi-W1"
      }
    },
    {
      "cell_type": "markdown",
      "source": [
        "### Kesimpulan\n",
        "\n",
        "Berdasarkan hasil evaluasi model di atas, dapat disimpulkan bahwa model terbaik untuk melakukan prediksi adalah model \n",
        "Random Forest. Dengan parameter 'n_estimators':60, 'maxdepth:'4 diperoleh nilai metrik MSE sebesar 427.8 (pada data latih) dan 466.2 (pada data uji). "
      ],
      "metadata": {
        "id": "2Aj0E5JikE42"
      }
    },
    {
      "cell_type": "markdown",
      "source": [
        "### Daftar Referensi\n",
        "\n",
        "* [1] Rhys, Hefin. \"Machine Learning with R, the Tidyverse, and MLR\". Manning Publications. 2020. Tersedia: O'Reilly Media.\n",
        "* [2] Fuentes, Alvaro. \"Hands-on Predictive Analytics with Python\". Packt Publishing. 2018. Tersedia: O'Reilly Media.\n",
        "* [3] Seltman, Howard J. “Experimental Design and Analysis”."
      ],
      "metadata": {
        "id": "seioe0emkIRA"
      }
    }
  ]
}